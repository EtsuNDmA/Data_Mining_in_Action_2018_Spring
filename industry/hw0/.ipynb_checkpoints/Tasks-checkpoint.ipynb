{
 "cells": [
  {
   "cell_type": "markdown",
   "metadata": {},
   "source": [
    "### Задача 1\n",
    "\n",
    "Что выведет этот код?\n",
    "\n",
    "Ответом на эту задачу является выведенное число, округлённое до 4го знака, дробная часть отделяется **точкой**."
   ]
  },
  {
   "cell_type": "code",
   "execution_count": 2,
   "metadata": {},
   "outputs": [
    {
     "name": "stdout",
     "output_type": "stream",
     "text": [
      "0.9648\n"
     ]
    }
   ],
   "source": [
    "from sklearn.datasets import load_breast_cancer\n",
    "from sklearn.ensemble import RandomForestClassifier\n",
    "from sklearn.model_selection import cross_val_score\n",
    "\n",
    "X_data, y_data = load_breast_cancer(return_X_y=True)\n",
    "\n",
    "sc = cross_val_score(RandomForestClassifier(criterion='entropy', n_estimators=42, random_state=42), X_data, y_data, cv=3).mean()\n",
    "print(round(sc,4))"
   ]
  },
  {
   "cell_type": "markdown",
   "metadata": {},
   "source": [
    "### Задача 2"
   ]
  },
  {
   "cell_type": "markdown",
   "metadata": {},
   "source": [
    "Напишите свою функцию определения качества модели по следующей метрике: максимальный precision, при условии, что $precision < 1.5 * recall$ и $recall > 0.5$ и определите наилучшее её значение, перебирая гиперпараметры по предложенной сетке"
   ]
  },
  {
   "cell_type": "markdown",
   "metadata": {},
   "source": [
    "Ответом на эту задачу является максимальное значение качества по предложенной метрике, округлённое до 4го знака, дробная часть отделяется **точкой**."
   ]
  },
  {
   "cell_type": "code",
   "execution_count": 17,
   "metadata": {},
   "outputs": [
    {
     "name": "stdout",
     "output_type": "stream",
     "text": [
      "Accuracy best params and score\n",
      "\tParams: {'criterion': 'entropy', 'max_depth': None, 'n_estimators': 50}\n",
      "\tScore: 0.964850615114\n",
      "Custom loss best params and score\n",
      "\tParams: {'criterion': 'gini', 'max_depth': None, 'n_estimators': 10}\n",
      "\tScore: 0.968819611066\n"
     ]
    }
   ],
   "source": [
    "from sklearn.model_selection import GridSearchCV\n",
    "from sklearn.metrics import make_scorer, precision_score, recall_score\n",
    "from sklearn.ensemble import RandomForestClassifier\n",
    "from sklearn.datasets import load_breast_cancer\n",
    "\n",
    "param_grid = {\n",
    "    'n_estimators': [10, 20, 30, 40, 50],\n",
    "    'max_depth': [None, 5, 10, 15, 20],\n",
    "    'criterion': ['entropy', 'gini']\n",
    "}\n",
    "\n",
    "X_data, y_data = load_breast_cancer(return_X_y=True)\n",
    "\n",
    "estimator = RandomForestClassifier(random_state=42)\n",
    "\n",
    "print('Accuracy best params and score')\n",
    "result = GridSearchCV(estimator, param_grid, cv=3, scoring='accuracy').fit(X_data, y_data)\n",
    "print('\\tParams:', result.best_params_)\n",
    "print('\\tScore:', result.best_score_)\n",
    "\n",
    "def scorer_func(y_true, y_pred):\n",
    "    precision = precision_score(y_true, y_pred)\n",
    "    recall = recall_score(y_true, y_pred)\n",
    "    if precision < 1.5 * recall and recall > 0.5:\n",
    "        return precision\n",
    "    else:\n",
    "        return 0\n",
    "    \n",
    "scorer = make_scorer(scorer_func)\n",
    "\n",
    "print('Custom loss best params and score')\n",
    "result = GridSearchCV(estimator, param_grid, cv=3, scoring=scorer).fit(X_data, y_data)\n",
    "print('\\tParams:', result.best_params_)\n",
    "print('\\tScore:', result.best_score_)"
   ]
  },
  {
   "cell_type": "markdown",
   "metadata": {},
   "source": [
    "### Задача 3"
   ]
  },
  {
   "cell_type": "markdown",
   "metadata": {},
   "source": [
    "Какова минимальная сторона квадрата с параллельными осям сторонами, содержащего все точки из $X$? \n",
    "\n",
    "Ответом на эту задачу является число, округлённое до 2го знака, дробная часть отделяется точкой."
   ]
  },
  {
   "cell_type": "code",
   "execution_count": 15,
   "metadata": {},
   "outputs": [
    {
     "name": "stdout",
     "output_type": "stream",
     "text": [
      "Минимальная сторона квдрата 29.57\n"
     ]
    },
    {
     "data": {
      "image/png": "[encoded data removed]",
      "text/plain": [
       "<matplotlib.figure.Figure at 0x7f12f8b6c898>"
      ]
     },
     "metadata": {},
     "output_type": "display_data"
    }
   ],
   "source": [
    "%matplotlib inline\n",
    "from sklearn.datasets import load_breast_cancer\n",
    "from matplotlib import pyplot as plt\n",
    "from matplotlib.patches import Rectangle\n",
    "\n",
    "data = load_breast_cancer()\n",
    "X = data.data[:, :2]\n",
    "\n",
    "fig = plt.figure(figsize=(8, 8))\n",
    "ax = fig.add_subplot(111)\n",
    "ax.plot(X[:,0],X[:,1],'r.')\n",
    "\n",
    "\n",
    "a = max([\n",
    "    max(X[:,0])-min(X[:,0]),\n",
    "    max(X[:,1])-min(X[:,1])\n",
    "])\n",
    "print('Минимальная сторона квдрата {:.2f}'.format(a))\n",
    "ax.add_patch(Rectangle((min(X[:,0]), min(X[:,1])), a, a))\n",
    "ax.axis('equal')\n",
    "pass"
   ]
  },
  {
   "cell_type": "markdown",
   "metadata": {},
   "source": [
    "## 1\n",
    "Немного шуточный вопрос для разогрева. Есть такой сервис https://pixelastic.github.io/pokemonorbigdata/ . Так что отличите покемонов от BigData и выберите BigData:\n",
    "\n",
    "-Feebas\n",
    "+Flink\n",
    "-Gorebyss\n",
    "-Arbok\n",
    "-Azurill\n",
    "+Seahorse\n",
    "+Atlassian"
   ]
  },
  {
   "cell_type": "markdown",
   "metadata": {},
   "source": [
    "## 2\n",
    "Вы реализуете какой-то алгоритм обучения на map reduce. Какие способы разбивания на батчи являются наиболее предпочтительными? (вы хотите получать независимые разбиения с воспроизводимостью результата)\n",
    "\n",
    "-Взять хэш от объекта, по остатку от деления определить в соответствующий кусочек\n",
    "-Взять хэш от номера объекта, по остатку от деления определить в соответствующий кусочек\n",
    "-Использовать random без указания seed\n",
    "-Использовать random c указанием seed\n",
    "-Разбивать по значению признака (например по году)"
   ]
  },
  {
   "cell_type": "code",
   "execution_count": 23,
   "metadata": {},
   "outputs": [
    {
     "name": "stdout",
     "output_type": "stream",
     "text": [
      "Result 0.055\n"
     ]
    }
   ],
   "source": [
    "# Какова вероятность выбросить 8 и больше орлов из 10 бросков монеты? Ответ округлите до 3 знака\n",
    "import numpy as np\n",
    "from scipy.special import binom\n",
    "\n",
    "prob= np.sum(binom(10, i) * (1/2)**10 for i in range(8,11))\n",
    "print('Result {:.3f}'.format(prob))"
   ]
  },
  {
   "cell_type": "code",
   "execution_count": 26,
   "metadata": {},
   "outputs": [
    {
     "name": "stdout",
     "output_type": "stream",
     "text": [
      "Result 0.309\n"
     ]
    }
   ],
   "source": [
    "# Какова вероятность выбросить 53 и больше орлов из 100 бросков монеты? Ответ округлите до 3 знака\n",
    "prob= np.sum(binom(100, i) * (1/2)**100 for i in range(53, 101))\n",
    "print('Result {:.3f}'.format(prob))"
   ]
  },
  {
   "cell_type": "code",
   "execution_count": null,
   "metadata": {
    "collapsed": true
   },
   "outputs": [],
   "source": []
  }
 ],
 "metadata": {
  "kernelspec": {
   "display_name": "Python 3",
   "language": "python",
   "name": "python3"
  },
  "language_info": {
   "codemirror_mode": {
    "name": "ipython",
    "version": 3
   },
   "file_extension": ".py",
   "mimetype": "text/x-python",
   "name": "python",
   "nbconvert_exporter": "python",
   "pygments_lexer": "ipython3",
   "version": "3.6.1"
  }
 },
 "nbformat": 4,
 "nbformat_minor": 2
}
