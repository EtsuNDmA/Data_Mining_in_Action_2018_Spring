{
 "cells": [
  {
   "cell_type": "code",
   "execution_count": 58,
   "metadata": {},
   "outputs": [
    {
     "name": "stdout",
     "output_type": "stream",
     "text": [
      "/home/etsu/projects/Data_Mining_in_Action_2018_Spring/industry/hw02\n"
     ]
    }
   ],
   "source": [
    "import os\n",
    "import json\n",
    "import sys\n",
    "\n",
    "import numpy as np\n",
    "import pandas as pd\n",
    "import matplotlib.pyplot as plt\n",
    "from sklearn.model_selection import cross_val_score, GridSearchCV\n",
    "import xgboost as xgb\n",
    "\n",
    "path=!pwd\n",
    "SCRIPT_DIR = os.path.realpath(path[0])\n",
    "print(SCRIPT_DIR)"
   ]
  },
  {
   "cell_type": "code",
   "execution_count": 47,
   "metadata": {},
   "outputs": [],
   "source": [
    "%matplotlib notebook"
   ]
  },
  {
   "cell_type": "code",
   "execution_count": 3,
   "metadata": {},
   "outputs": [],
   "source": [
    "data_path=SCRIPT_DIR + '/../seminar02/HR.csv'\n",
    "df = pd.read_csv(data_path)\n",
    "target_ = 'left'\n",
    "features_ = [c for c in df if c != target_]\n",
    "target = np.array(df[target_])\n",
    "data = np.array(df[features_])"
   ]
  },
  {
   "cell_type": "code",
   "execution_count": 33,
   "metadata": {},
   "outputs": [
    {
     "data": {
      "text/plain": [
       "(array([0, 1]), array([9821, 5178]))"
      ]
     },
     "execution_count": 33,
     "metadata": {},
     "output_type": "execute_result"
    }
   ],
   "source": [
    "unique, counts = np.unique(target, return_counts=True)\n",
    "unique, counts"
   ]
  },
  {
   "cell_type": "code",
   "execution_count": 57,
   "metadata": {},
   "outputs": [
    {
     "data": {
      "text/html": [
       "<div>\n",
       "<style>\n",
       "    .dataframe thead tr:only-child th {\n",
       "        text-align: right;\n",
       "    }\n",
       "\n",
       "    .dataframe thead th {\n",
       "        text-align: left;\n",
       "    }\n",
       "\n",
       "    .dataframe tbody tr th {\n",
       "        vertical-align: top;\n",
       "    }\n",
       "</style>\n",
       "<table border=\"1\" class=\"dataframe\">\n",
       "  <thead>\n",
       "    <tr style=\"text-align: right;\">\n",
       "      <th></th>\n",
       "      <th>last_evaluation</th>\n",
       "      <th>number_project</th>\n",
       "      <th>average_montly_hours</th>\n",
       "      <th>time_spend_company</th>\n",
       "      <th>Work_accident</th>\n",
       "      <th>left</th>\n",
       "      <th>promotion_last_5years</th>\n",
       "    </tr>\n",
       "  </thead>\n",
       "  <tbody>\n",
       "    <tr>\n",
       "      <th>0</th>\n",
       "      <td>0.53</td>\n",
       "      <td>2</td>\n",
       "      <td>157</td>\n",
       "      <td>3</td>\n",
       "      <td>0</td>\n",
       "      <td>1</td>\n",
       "      <td>0</td>\n",
       "    </tr>\n",
       "    <tr>\n",
       "      <th>1</th>\n",
       "      <td>0.86</td>\n",
       "      <td>5</td>\n",
       "      <td>262</td>\n",
       "      <td>6</td>\n",
       "      <td>0</td>\n",
       "      <td>0</td>\n",
       "      <td>0</td>\n",
       "    </tr>\n",
       "    <tr>\n",
       "      <th>2</th>\n",
       "      <td>0.88</td>\n",
       "      <td>7</td>\n",
       "      <td>272</td>\n",
       "      <td>4</td>\n",
       "      <td>0</td>\n",
       "      <td>1</td>\n",
       "      <td>0</td>\n",
       "    </tr>\n",
       "    <tr>\n",
       "      <th>3</th>\n",
       "      <td>0.87</td>\n",
       "      <td>5</td>\n",
       "      <td>223</td>\n",
       "      <td>5</td>\n",
       "      <td>0</td>\n",
       "      <td>1</td>\n",
       "      <td>0</td>\n",
       "    </tr>\n",
       "    <tr>\n",
       "      <th>4</th>\n",
       "      <td>0.52</td>\n",
       "      <td>2</td>\n",
       "      <td>159</td>\n",
       "      <td>3</td>\n",
       "      <td>0</td>\n",
       "      <td>1</td>\n",
       "      <td>0</td>\n",
       "    </tr>\n",
       "  </tbody>\n",
       "</table>\n",
       "</div>"
      ],
      "text/plain": [
       "   last_evaluation  number_project  average_montly_hours  time_spend_company  \\\n",
       "0             0.53               2                   157                   3   \n",
       "1             0.86               5                   262                   6   \n",
       "2             0.88               7                   272                   4   \n",
       "3             0.87               5                   223                   5   \n",
       "4             0.52               2                   159                   3   \n",
       "\n",
       "   Work_accident  left  promotion_last_5years  \n",
       "0              0     1                      0  \n",
       "1              0     0                      0  \n",
       "2              0     1                      0  \n",
       "3              0     1                      0  \n",
       "4              0     1                      0  "
      ]
     },
     "execution_count": 57,
     "metadata": {},
     "output_type": "execute_result"
    }
   ],
   "source": [
    "df.head()"
   ]
  },
  {
   "cell_type": "code",
   "execution_count": 11,
   "metadata": {
    "collapsed": true
   },
   "outputs": [],
   "source": [
    "params = {\n",
    "    \"learning_rate\": 0.1, \n",
    "    \"max_depth\": 5, \n",
    "    \"n_estimators\": 1000, \n",
    "    \"min_child_weight\": 3,\n",
    "    \"seed\": 42\n",
    "}\n",
    "\n",
    "# max_depth=3\n",
    "# learning_rate=0.1\n",
    "# n_estimators=100\n",
    "# objective='binary:logistic'\n",
    "# booster='gbtree'\n",
    "# n_jobs=3\n",
    "# gamma=0\n",
    "# min_child_weight=1\n",
    "# max_delta_step=0\n",
    "# subsample=1\n",
    "# colsample_bytree=1\n",
    "# colsample_bylevel=1\n",
    "# reg_alpha=0\n",
    "# reg_lambda=1\n",
    "# scale_pos_weight=1\n",
    "# base_score=0.5\n",
    "# random_state=0\n",
    "# seed=None\n",
    "# missing=None"
   ]
  },
  {
   "cell_type": "code",
   "execution_count": 26,
   "metadata": {},
   "outputs": [
    {
     "name": "stdout",
     "output_type": "stream",
     "text": [
      "Baseline score 0.779121224244849\n",
      "CPU times: user 1.34 s, sys: 16 ms, total: 1.35 s\n",
      "Wall time: 1.44 s\n"
     ]
    }
   ],
   "source": [
    "%%time\n",
    "estimator = xgb.XGBClassifier()\n",
    "baseline_score = np.mean(cross_val_score(\n",
    "                    estimator, data, target,\n",
    "                    scoring='accuracy', \n",
    "                    cv=3\n",
    "                ))\n",
    "print('Baseline score {}'.format(baseline_score))"
   ]
  },
  {
   "cell_type": "code",
   "execution_count": 27,
   "metadata": {},
   "outputs": [
    {
     "name": "stdout",
     "output_type": "stream",
     "text": [
      "Default score 0.7659867306794692 (-0.013134493565379768)\n",
      "CPU times: user 20.8 s, sys: 180 ms, total: 21 s\n",
      "Wall time: 21.2 s\n"
     ]
    }
   ],
   "source": [
    "%%time\n",
    "params = {\n",
    "    \"learning_rate\": 0.1, \n",
    "    \"max_depth\": 5, \n",
    "    \"n_estimators\": 1000, \n",
    "    \"min_child_weight\": 3,\n",
    "    \"seed\": 42\n",
    "}\n",
    "estimator = xgb.XGBClassifier(**params)\n",
    "score = np.mean(cross_val_score(\n",
    "                    estimator, data, target,\n",
    "                    scoring='accuracy', \n",
    "                    cv=3\n",
    "                ))\n",
    "print('Default score {} ({})'.format(score, score-baseline_score))"
   ]
  },
  {
   "cell_type": "code",
   "execution_count": 118,
   "metadata": {},
   "outputs": [
    {
     "name": "stdout",
     "output_type": "stream",
     "text": [
      "=====\n",
      "Best params {'n_estimators': 82}\n",
      "Score 0.7796519767984532 (0.0005307525536042412)\n",
      "=====\n",
      "CPU times: user 1.32 s, sys: 712 ms, total: 2.03 s\n",
      "Wall time: 18.7 s\n"
     ]
    }
   ],
   "source": [
    "%%time\n",
    "param_grid1 = {\n",
    "    \"n_estimators\": range(50,90,1)\n",
    "}\n",
    "\n",
    "xgb1 = xgb.XGBClassifier(\n",
    "    learning_rate=0.1,\n",
    "    seed=42\n",
    ")\n",
    "\n",
    "grid1 = GridSearchCV(xgb1, param_grid1, scoring='accuracy', n_jobs=4, cv=3)\n",
    "grid1.fit(data, target)\n",
    "\n",
    "print('=====\\n'\n",
    "      'Best params {}\\n'\n",
    "      'Score {} ({})\\n'\n",
    "      '====='.format(\n",
    "          grid1.best_params_,\n",
    "          grid1.best_score_, grid1.best_score_ - baseline_score\n",
    "      ))"
   ]
  },
  {
   "cell_type": "code",
   "execution_count": 85,
   "metadata": {},
   "outputs": [
    {
     "name": "stdout",
     "output_type": "stream",
     "text": [
      "=====\n",
      "Best params {'max_depth': 5, 'min_child_weight': 3}\n",
      "Score 0.7802520168011201 (0.0011307925562711318)\n",
      "=====\n",
      "CPU times: user 1.16 s, sys: 424 ms, total: 1.59 s\n",
      "Wall time: 13.2 s\n"
     ]
    }
   ],
   "source": [
    "%%time\n",
    "param_grid2 = {\n",
    "    'max_depth':range(1,6),\n",
    "    'min_child_weight':range(1,6)\n",
    "}\n",
    "\n",
    "xgb2 = xgb.XGBClassifier(\n",
    "    learning_rate=0.1,\n",
    "    n_estimators=82,\n",
    "    seed=42\n",
    ")\n",
    "\n",
    "grid2 = GridSearchCV(xgb2, param_grid2, scoring='accuracy', n_jobs=3, cv=3)\n",
    "grid2.fit(data, target)\n",
    "\n",
    "print('=====\\n'\n",
    "      'Best params {}\\n'\n",
    "      'Score {} ({})\\n'\n",
    "      '====='.format(\n",
    "          grid2.best_params_,\n",
    "          grid2.best_score_, grid2.best_score_ - baseline_score\n",
    "      ))"
   ]
  },
  {
   "cell_type": "code",
   "execution_count": 88,
   "metadata": {},
   "outputs": [
    {
     "name": "stdout",
     "output_type": "stream",
     "text": [
      "=====\n",
      "Best params {'gamma': 0.01}\n",
      "Score 0.7803186879125275 (0.0011974636676784778)\n",
      "=====\n",
      "CPU times: user 820 ms, sys: 184 ms, total: 1 s\n",
      "Wall time: 5.37 s\n"
     ]
    }
   ],
   "source": [
    "%%time\n",
    "param_grid3 = {\n",
    "    'gamma':[i/100.0 for i in range(0,5)]\n",
    "}\n",
    "\n",
    "xgb3 = xgb.XGBClassifier(\n",
    "    learning_rate=0.1,\n",
    "    n_estimators=82,\n",
    "    max_depth=5,\n",
    "    min_child_weight=3,\n",
    "    seed=42\n",
    ")\n",
    "\n",
    "grid3 = GridSearchCV(xgb3, param_grid3, scoring='accuracy', n_jobs=3, cv=3)\n",
    "grid3.fit(data, target)\n",
    "\n",
    "print('=====\\n'\n",
    "      'Best params {}\\n'\n",
    "      'Score {} ({})\\n'\n",
    "      '====='.format(\n",
    "          grid3.best_params_,\n",
    "          grid3.best_score_, grid3.best_score_ - baseline_score\n",
    "      ))"
   ]
  },
  {
   "cell_type": "code",
   "execution_count": 91,
   "metadata": {},
   "outputs": [
    {
     "name": "stdout",
     "output_type": "stream",
     "text": [
      "=====\n",
      "Best params {'colsample_bytree': 0.75, 'subsample': 0.97}\n",
      "Score 0.7818521234748983 (0.0011974636676784778)\n",
      "=====\n",
      "CPU times: user 2.92 s, sys: 2.37 s, total: 5.29 s\n",
      "Wall time: 1min 53s\n"
     ]
    }
   ],
   "source": [
    "%%time\n",
    "param_grid4 = {\n",
    "    'subsample':[i/100.0 for i in range(85,100)],\n",
    "    'colsample_bytree':[i/100.0 for i in range(75,85)]\n",
    "}\n",
    "\n",
    "xgb4 = xgb.XGBClassifier(\n",
    "    learning_rate=0.1,\n",
    "    n_estimators=82,\n",
    "    max_depth=5,\n",
    "    min_child_weight=3,\n",
    "    gamma=0.1,\n",
    "    seed=42\n",
    ")\n",
    "\n",
    "grid4 = GridSearchCV(xgb4, param_grid4, scoring='accuracy', n_jobs=3, cv=3)\n",
    "grid4.fit(data, target)\n",
    "\n",
    "print('=====\\n'\n",
    "      'Best params {}\\n'\n",
    "      'Score {} ({})\\n'\n",
    "      '====='.format(\n",
    "          grid4.best_params_,\n",
    "          grid4.best_score_, grid4.best_score_ - baseline_score\n",
    "      ))"
   ]
  },
  {
   "cell_type": "code",
   "execution_count": 95,
   "metadata": {},
   "outputs": [
    {
     "name": "stdout",
     "output_type": "stream",
     "text": [
      "=====\n",
      "Best params {'reg_alpha': 0}\n",
      "Score 0.7818521234748983 (0.0027308992300493218)\n",
      "=====\n",
      "CPU times: user 840 ms, sys: 116 ms, total: 956 ms\n",
      "Wall time: 3.76 s\n"
     ]
    }
   ],
   "source": [
    "%%time\n",
    "param_grid5 = {\n",
    "    'reg_alpha':[0, 1e-10, 1e-5, 1e-2]\n",
    "}\n",
    "\n",
    "xgb5 = xgb.XGBClassifier(\n",
    "    learning_rate=0.1,\n",
    "    n_estimators=82,\n",
    "    max_depth=5,\n",
    "    min_child_weight=3,\n",
    "    gamma=0.1,\n",
    "    colsample_bytree=0.75,\n",
    "    subsample=0.97,\n",
    "    seed=42\n",
    ")\n",
    "\n",
    "grid5 = GridSearchCV(xgb5, param_grid5, scoring='accuracy', n_jobs=3, cv=3)\n",
    "grid5.fit(data, target)\n",
    "\n",
    "print('=====\\n'\n",
    "      'Best params {}\\n'\n",
    "      'Score {} ({})\\n'\n",
    "      '====='.format(\n",
    "          grid5.best_params_,\n",
    "          grid5.best_score_, grid5.best_score_ - baseline_score\n",
    "      ))"
   ]
  },
  {
   "cell_type": "code",
   "execution_count": 139,
   "metadata": {},
   "outputs": [
    {
     "data": {
      "text/plain": [
       "0.99"
      ]
     },
     "execution_count": 139,
     "metadata": {},
     "output_type": "execute_result"
    }
   ],
   "source": [
    "delta = -0.0003\n",
    "max(round(2 ** (30 * delta), 2), 0.05)"
   ]
  },
  {
   "cell_type": "code",
   "execution_count": 126,
   "metadata": {},
   "outputs": [
    {
     "name": "stdout",
     "output_type": "stream",
     "text": [
      "=====\n",
      "Best params {'max_depth': 7, 'min_child_weight': 4, 'n_estimators': 62}\n",
      "Score 0.7827188479231949 (0.0035976236783459292)\n",
      "=====\n",
      "CPU times: user 2.04 s, sys: 1.4 s, total: 3.44 s\n",
      "Wall time: 59.4 s\n"
     ]
    }
   ],
   "source": [
    "%%time\n",
    "param_grid6 = {\n",
    "    'n_estimators': range(62,65),\n",
    "    'max_depth': [6,7,8,9,10],\n",
    "    'min_child_weight': [2,3,4],\n",
    "}\n",
    "\n",
    "xgb6 = xgb.XGBClassifier(\n",
    "    learning_rate=0.1,\n",
    "    gamma=0.1,\n",
    "    colsample_bytree=0.75,\n",
    "    subsample=0.97,\n",
    "    seed=42\n",
    ")\n",
    "\n",
    "grid6 = GridSearchCV(xgb6, param_grid6, scoring='accuracy', n_jobs=3, cv=3)\n",
    "grid6.fit(data, target)\n",
    "\n",
    "print('=====\\n'\n",
    "      'Best params {}\\n'\n",
    "      'Score {} ({})\\n'\n",
    "      '====='.format(\n",
    "          grid6.best_params_,\n",
    "          grid6.best_score_, grid6.best_score_ - baseline_score\n",
    "      ))"
   ]
  },
  {
   "cell_type": "code",
   "execution_count": 141,
   "metadata": {},
   "outputs": [
    {
     "name": "stdout",
     "output_type": "stream",
     "text": [
      "Default score 0.7827216643328666 (0.0036004400880176313)\n",
      "CPU times: user 1.52 s, sys: 64 ms, total: 1.58 s\n",
      "Wall time: 1.67 s\n"
     ]
    }
   ],
   "source": [
    "%%time\n",
    "params = {\n",
    "    \"learning_rate\": 0.1,\n",
    "    \"n_estimators\": 62,\n",
    "    \"max_depth\": 7, \n",
    "    \"min_child_weight\": 4,\n",
    "    \"gamma\": 0.1,\n",
    "    \"colsample_bytree\": 0.75,\n",
    "    \"subsample\": 0.97,\n",
    "    \"seed\": 42\n",
    "}\n",
    "estimator = xgb.XGBClassifier(**params)\n",
    "score = np.mean(cross_val_score(\n",
    "                    estimator, data, target,\n",
    "                    scoring='accuracy', \n",
    "                    cv=3\n",
    "                ))\n",
    "print('Score {} ({})'.format(score, score-baseline_score))"
   ]
  }
 ],
 "metadata": {
  "kernelspec": {
   "display_name": "Python 3",
   "language": "python",
   "name": "python3"
  },
  "language_info": {
   "codemirror_mode": {
    "name": "ipython",
    "version": 3
   },
   "file_extension": ".py",
   "mimetype": "text/x-python",
   "name": "python",
   "nbconvert_exporter": "python",
   "pygments_lexer": "ipython3",
   "version": "3.6.4"
  }
 },
 "nbformat": 4,
 "nbformat_minor": 2
}
