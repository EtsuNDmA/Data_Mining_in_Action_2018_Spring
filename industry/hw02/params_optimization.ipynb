{
 "cells": [
  {
   "cell_type": "code",
   "execution_count": 9,
   "metadata": {},
   "outputs": [
    {
     "name": "stdout",
     "output_type": "stream",
     "text": [
      "/home/etsu/projects/Data_Mining_in_Action_2018_Spring/industry/hw02\n"
     ]
    }
   ],
   "source": [
    "import os\n",
    "import json\n",
    "import sys\n",
    "\n",
    "import numpy as np\n",
    "import pandas as pd\n",
    "import matplotlib.pyplot as plt\n",
    "from sklearn.model_selection import cross_val_score, GridSearchCV\n",
    "import xgboost as xgb\n",
    "\n",
    "import warnings\n",
    "warnings.filterwarnings('ignore')\n",
    "\n",
    "path=!pwd\n",
    "SCRIPT_DIR = os.path.realpath(path[0])\n",
    "print(SCRIPT_DIR)"
   ]
  },
  {
   "cell_type": "code",
   "execution_count": 10,
   "metadata": {},
   "outputs": [],
   "source": [
    "%matplotlib notebook"
   ]
  },
  {
   "cell_type": "code",
   "execution_count": 11,
   "metadata": {},
   "outputs": [],
   "source": [
    "data_path=SCRIPT_DIR + '/../seminar02/HR.csv'\n",
    "df = pd.read_csv(data_path)\n",
    "target_ = 'left'\n",
    "features_ = [c for c in df if c != target_]\n",
    "target = np.array(df[target_])\n",
    "data = np.array(df[features_])"
   ]
  },
  {
   "cell_type": "code",
   "execution_count": 12,
   "metadata": {},
   "outputs": [
    {
     "data": {
      "text/plain": [
       "(array([0, 1]), array([9821, 5178]))"
      ]
     },
     "execution_count": 12,
     "metadata": {},
     "output_type": "execute_result"
    }
   ],
   "source": [
    "unique, counts = np.unique(target, return_counts=True)\n",
    "unique, counts"
   ]
  },
  {
   "cell_type": "code",
   "execution_count": 13,
   "metadata": {},
   "outputs": [
    {
     "data": {
      "text/html": [
       "<div>\n",
       "<style scoped>\n",
       "    .dataframe tbody tr th:only-of-type {\n",
       "        vertical-align: middle;\n",
       "    }\n",
       "\n",
       "    .dataframe tbody tr th {\n",
       "        vertical-align: top;\n",
       "    }\n",
       "\n",
       "    .dataframe thead th {\n",
       "        text-align: right;\n",
       "    }\n",
       "</style>\n",
       "<table border=\"1\" class=\"dataframe\">\n",
       "  <thead>\n",
       "    <tr style=\"text-align: right;\">\n",
       "      <th></th>\n",
       "      <th>last_evaluation</th>\n",
       "      <th>number_project</th>\n",
       "      <th>average_montly_hours</th>\n",
       "      <th>time_spend_company</th>\n",
       "      <th>Work_accident</th>\n",
       "      <th>left</th>\n",
       "      <th>promotion_last_5years</th>\n",
       "    </tr>\n",
       "  </thead>\n",
       "  <tbody>\n",
       "    <tr>\n",
       "      <th>0</th>\n",
       "      <td>0.53</td>\n",
       "      <td>2</td>\n",
       "      <td>157</td>\n",
       "      <td>3</td>\n",
       "      <td>0</td>\n",
       "      <td>1</td>\n",
       "      <td>0</td>\n",
       "    </tr>\n",
       "    <tr>\n",
       "      <th>1</th>\n",
       "      <td>0.86</td>\n",
       "      <td>5</td>\n",
       "      <td>262</td>\n",
       "      <td>6</td>\n",
       "      <td>0</td>\n",
       "      <td>0</td>\n",
       "      <td>0</td>\n",
       "    </tr>\n",
       "    <tr>\n",
       "      <th>2</th>\n",
       "      <td>0.88</td>\n",
       "      <td>7</td>\n",
       "      <td>272</td>\n",
       "      <td>4</td>\n",
       "      <td>0</td>\n",
       "      <td>1</td>\n",
       "      <td>0</td>\n",
       "    </tr>\n",
       "    <tr>\n",
       "      <th>3</th>\n",
       "      <td>0.87</td>\n",
       "      <td>5</td>\n",
       "      <td>223</td>\n",
       "      <td>5</td>\n",
       "      <td>0</td>\n",
       "      <td>1</td>\n",
       "      <td>0</td>\n",
       "    </tr>\n",
       "    <tr>\n",
       "      <th>4</th>\n",
       "      <td>0.52</td>\n",
       "      <td>2</td>\n",
       "      <td>159</td>\n",
       "      <td>3</td>\n",
       "      <td>0</td>\n",
       "      <td>1</td>\n",
       "      <td>0</td>\n",
       "    </tr>\n",
       "  </tbody>\n",
       "</table>\n",
       "</div>"
      ],
      "text/plain": [
       "   last_evaluation  number_project  average_montly_hours  time_spend_company  \\\n",
       "0             0.53               2                   157                   3   \n",
       "1             0.86               5                   262                   6   \n",
       "2             0.88               7                   272                   4   \n",
       "3             0.87               5                   223                   5   \n",
       "4             0.52               2                   159                   3   \n",
       "\n",
       "   Work_accident  left  promotion_last_5years  \n",
       "0              0     1                      0  \n",
       "1              0     0                      0  \n",
       "2              0     1                      0  \n",
       "3              0     1                      0  \n",
       "4              0     1                      0  "
      ]
     },
     "execution_count": 13,
     "metadata": {},
     "output_type": "execute_result"
    }
   ],
   "source": [
    "df.head()"
   ]
  },
  {
   "cell_type": "code",
   "execution_count": 14,
   "metadata": {},
   "outputs": [],
   "source": [
    "params = {\n",
    "    \"learning_rate\": 0.1, \n",
    "    \"max_depth\": 5, \n",
    "    \"n_estimators\": 1000, \n",
    "    \"min_child_weight\": 3,\n",
    "    \"seed\": 42\n",
    "}"
   ]
  },
  {
   "cell_type": "code",
   "execution_count": 15,
   "metadata": {},
   "outputs": [
    {
     "name": "stdout",
     "output_type": "stream",
     "text": [
      "Baseline score 0.779121224244849\n",
      "CPU times: user 505 ms, sys: 21 µs, total: 505 ms\n",
      "Wall time: 503 ms\n"
     ]
    }
   ],
   "source": [
    "%%time\n",
    "estimator = xgb.XGBClassifier()\n",
    "baseline_score = np.mean(cross_val_score(\n",
    "                    estimator, data, target,\n",
    "                    scoring='accuracy', \n",
    "                    cv=3\n",
    "                ))\n",
    "print('Baseline score {}'.format(baseline_score))"
   ]
  },
  {
   "cell_type": "code",
   "execution_count": 16,
   "metadata": {},
   "outputs": [
    {
     "name": "stdout",
     "output_type": "stream",
     "text": [
      "Default score 0.7659867306794692 (-0.013134493565379768)\n",
      "CPU times: user 7.36 s, sys: 11.9 ms, total: 7.38 s\n",
      "Wall time: 7.38 s\n"
     ]
    }
   ],
   "source": [
    "%%time\n",
    "params = {\n",
    "    \"learning_rate\": 0.1, \n",
    "    \"max_depth\": 5, \n",
    "    \"n_estimators\": 1000, \n",
    "    \"min_child_weight\": 3,\n",
    "    \"seed\": 42\n",
    "}\n",
    "estimator = xgb.XGBClassifier(**params)\n",
    "score = np.mean(cross_val_score(\n",
    "                    estimator, data, target,\n",
    "                    scoring='accuracy', \n",
    "                    cv=3\n",
    "                ))\n",
    "print('Default score {} ({})'.format(score, score-baseline_score))"
   ]
  },
  {
   "cell_type": "code",
   "execution_count": 17,
   "metadata": {},
   "outputs": [
    {
     "name": "stdout",
     "output_type": "stream",
     "text": [
      "=====\n",
      "Best params {'n_estimators': 82}\n",
      "Score 0.7796519767984532 (0.0005307525536042412)\n",
      "=====\n",
      "CPU times: user 431 ms, sys: 84.1 ms, total: 515 ms\n",
      "Wall time: 4.72 s\n"
     ]
    }
   ],
   "source": [
    "%%time\n",
    "param_grid1 = {\n",
    "    \"n_estimators\": range(50,90,1)\n",
    "}\n",
    "\n",
    "xgb1 = xgb.XGBClassifier(\n",
    "    learning_rate=0.1,\n",
    "    seed=42\n",
    ")\n",
    "\n",
    "grid1 = GridSearchCV(xgb1, param_grid1, scoring='accuracy', n_jobs=4, cv=3)\n",
    "grid1.fit(data, target)\n",
    "\n",
    "print('=====\\n'\n",
    "      'Best params {}\\n'\n",
    "      'Score {} ({})\\n'\n",
    "      '====='.format(\n",
    "          grid1.best_params_,\n",
    "          grid1.best_score_, grid1.best_score_ - baseline_score\n",
    "      ))"
   ]
  },
  {
   "cell_type": "code",
   "execution_count": 18,
   "metadata": {},
   "outputs": [
    {
     "name": "stdout",
     "output_type": "stream",
     "text": [
      "=====\n",
      "Best params {'max_depth': 5, 'min_child_weight': 3}\n",
      "Score 0.7802520168011201 (0.0011307925562711318)\n",
      "=====\n",
      "CPU times: user 379 ms, sys: 56.3 ms, total: 435 ms\n",
      "Wall time: 4.75 s\n"
     ]
    }
   ],
   "source": [
    "%%time\n",
    "param_grid2 = {\n",
    "    'max_depth':range(1,6),\n",
    "    'min_child_weight':range(1,6)\n",
    "}\n",
    "\n",
    "xgb2 = xgb.XGBClassifier(\n",
    "    learning_rate=0.1,\n",
    "    n_estimators=82,\n",
    "    seed=42\n",
    ")\n",
    "\n",
    "grid2 = GridSearchCV(xgb2, param_grid2, scoring='accuracy', n_jobs=3, cv=3)\n",
    "grid2.fit(data, target)\n",
    "\n",
    "print('=====\\n'\n",
    "      'Best params {}\\n'\n",
    "      'Score {} ({})\\n'\n",
    "      '====='.format(\n",
    "          grid2.best_params_,\n",
    "          grid2.best_score_, grid2.best_score_ - baseline_score\n",
    "      ))"
   ]
  },
  {
   "cell_type": "code",
   "execution_count": 19,
   "metadata": {},
   "outputs": [
    {
     "name": "stdout",
     "output_type": "stream",
     "text": [
      "=====\n",
      "Best params {'gamma': 0.01}\n",
      "Score 0.7803186879125275 (0.0011974636676784778)\n",
      "=====\n",
      "CPU times: user 429 ms, sys: 47.8 ms, total: 476 ms\n",
      "Wall time: 1.84 s\n"
     ]
    }
   ],
   "source": [
    "%%time\n",
    "param_grid3 = {\n",
    "    'gamma':[i/100.0 for i in range(0,5)]\n",
    "}\n",
    "\n",
    "xgb3 = xgb.XGBClassifier(\n",
    "    learning_rate=0.1,\n",
    "    n_estimators=82,\n",
    "    max_depth=5,\n",
    "    min_child_weight=3,\n",
    "    seed=42\n",
    ")\n",
    "\n",
    "grid3 = GridSearchCV(xgb3, param_grid3, scoring='accuracy', n_jobs=3, cv=3)\n",
    "grid3.fit(data, target)\n",
    "\n",
    "print('=====\\n'\n",
    "      'Best params {}\\n'\n",
    "      'Score {} ({})\\n'\n",
    "      '====='.format(\n",
    "          grid3.best_params_,\n",
    "          grid3.best_score_, grid3.best_score_ - baseline_score\n",
    "      ))"
   ]
  },
  {
   "cell_type": "code",
   "execution_count": 20,
   "metadata": {},
   "outputs": [
    {
     "name": "stdout",
     "output_type": "stream",
     "text": [
      "=====\n",
      "Best params {'colsample_bytree': 0.84, 'subsample': 0.89}\n",
      "Score 0.781652110140676 (0.002530885895827062)\n",
      "=====\n",
      "CPU times: user 1.18 s, sys: 603 ms, total: 1.78 s\n",
      "Wall time: 39.2 s\n"
     ]
    }
   ],
   "source": [
    "%%time\n",
    "param_grid4 = {\n",
    "    'subsample':[i/100.0 for i in range(85,100)],\n",
    "    'colsample_bytree':[i/100.0 for i in range(75,85)]\n",
    "}\n",
    "\n",
    "xgb4 = xgb.XGBClassifier(\n",
    "    learning_rate=0.1,\n",
    "    n_estimators=82,\n",
    "    max_depth=5,\n",
    "    min_child_weight=3,\n",
    "    gamma=0.1,\n",
    "    seed=42\n",
    ")\n",
    "\n",
    "grid4 = GridSearchCV(xgb4, param_grid4, scoring='accuracy', n_jobs=3, cv=3)\n",
    "grid4.fit(data, target)\n",
    "\n",
    "print('=====\\n'\n",
    "      'Best params {}\\n'\n",
    "      'Score {} ({})\\n'\n",
    "      '====='.format(\n",
    "          grid4.best_params_,\n",
    "          grid4.best_score_, grid4.best_score_ - baseline_score\n",
    "      ))"
   ]
  },
  {
   "cell_type": "code",
   "execution_count": 21,
   "metadata": {},
   "outputs": [
    {
     "name": "stdout",
     "output_type": "stream",
     "text": [
      "=====\n",
      "Best params {'reg_alpha': 0.01}\n",
      "Score 0.7809187279151943 (0.0017975036703453684)\n",
      "=====\n",
      "CPU times: user 419 ms, sys: 27.9 ms, total: 446 ms\n",
      "Wall time: 1.61 s\n"
     ]
    }
   ],
   "source": [
    "%%time\n",
    "param_grid5 = {\n",
    "    'reg_alpha':[0, 1e-10, 1e-5, 1e-2]\n",
    "}\n",
    "\n",
    "xgb5 = xgb.XGBClassifier(\n",
    "    learning_rate=0.1,\n",
    "    n_estimators=82,\n",
    "    max_depth=5,\n",
    "    min_child_weight=3,\n",
    "    gamma=0.1,\n",
    "    colsample_bytree=0.75,\n",
    "    subsample=0.97,\n",
    "    seed=42\n",
    ")\n",
    "\n",
    "grid5 = GridSearchCV(xgb5, param_grid5, scoring='accuracy', n_jobs=3, cv=3)\n",
    "grid5.fit(data, target)\n",
    "\n",
    "print('=====\\n'\n",
    "      'Best params {}\\n'\n",
    "      'Score {} ({})\\n'\n",
    "      '====='.format(\n",
    "          grid5.best_params_,\n",
    "          grid5.best_score_, grid5.best_score_ - baseline_score\n",
    "      ))"
   ]
  },
  {
   "cell_type": "code",
   "execution_count": 22,
   "metadata": {},
   "outputs": [
    {
     "name": "stdout",
     "output_type": "stream",
     "text": [
      "=====\n",
      "Best params {'max_depth': 7, 'min_child_weight': 3, 'n_estimators': 64}\n",
      "Score 0.7833188879258617 (0.004197663681012709)\n",
      "=====\n",
      "CPU times: user 658 ms, sys: 193 ms, total: 851 ms\n",
      "Wall time: 15.1 s\n"
     ]
    }
   ],
   "source": [
    "%%time\n",
    "param_grid6 = {\n",
    "    'n_estimators': range(62,65),\n",
    "    'max_depth': [6,7,8,9,10],\n",
    "    'min_child_weight': [2,3,4],\n",
    "}\n",
    "\n",
    "xgb6 = xgb.XGBClassifier(\n",
    "    learning_rate=0.1,\n",
    "    gamma=0.1,\n",
    "    colsample_bytree=0.75,\n",
    "    subsample=0.97,\n",
    "    seed=42\n",
    ")\n",
    "\n",
    "grid6 = GridSearchCV(xgb6, param_grid6, scoring='accuracy', n_jobs=3, cv=3)\n",
    "grid6.fit(data, target)\n",
    "\n",
    "print('=====\\n'\n",
    "      'Best params {}\\n'\n",
    "      'Score {} ({})\\n'\n",
    "      '====='.format(\n",
    "          grid6.best_params_,\n",
    "          grid6.best_score_, grid6.best_score_ - baseline_score\n",
    "      ))"
   ]
  },
  {
   "cell_type": "code",
   "execution_count": 68,
   "metadata": {},
   "outputs": [
    {
     "name": "stdout",
     "output_type": "stream",
     "text": [
      "Score 0.7845885177035408 (0.005467293458691791)\n",
      "CPU times: user 6.3 s, sys: 4.89 ms, total: 6.31 s\n",
      "Wall time: 6.31 s\n"
     ]
    }
   ],
   "source": [
    "%%time\n",
    "params = {\n",
    "    \"learning_rate\": 0.001,\n",
    "    \"n_estimators\": 500,\n",
    "    \"max_depth\": 8, \n",
    "    \"min_child_weight\": 0,\n",
    "    \"gamma\": 0.1,\n",
    "    \"colsample_bytree\": 0.75,\n",
    "    \"subsample\": 0.97,\n",
    "    \"seed\": 42\n",
    "}\n",
    "estimator = xgb.XGBClassifier(**params)\n",
    "score = np.mean(cross_val_score(\n",
    "                    estimator, data, target,\n",
    "                    scoring='accuracy', \n",
    "                    cv=3\n",
    "                ))\n",
    "print('Score {} ({})'.format(score, score-baseline_score))"
   ]
  },
  {
   "cell_type": "code",
   "execution_count": 67,
   "metadata": {},
   "outputs": [
    {
     "name": "stdout",
     "output_type": "stream",
     "text": [
      "=====\n",
      "Best params {'learning_rate': 0.001, 'n_estimators': 500}\n",
      "Score 0.7845856390426028 (0.005464414797753836)\n",
      "=====\n",
      "CPU times: user 3.42 s, sys: 436 ms, total: 3.85 s\n",
      "Wall time: 2min 21s\n"
     ]
    }
   ],
   "source": [
    "%%time\n",
    "param_grid7 = {\n",
    "    \"learning_rate\": [0.001, 0.1],\n",
    "    \"n_estimators\": range(480,520,1),\n",
    "}\n",
    "params = {\n",
    "    \"max_depth\": 8, \n",
    "    \"min_child_weight\": 0,\n",
    "    \"gamma\": 0.1,\n",
    "    \"colsample_bytree\": 0.75,\n",
    "    \"subsample\": 0.97,\n",
    "    \"seed\": 42\n",
    "}\n",
    "xgb7 = xgb.XGBClassifier(**params)\n",
    "\n",
    "grid7 = GridSearchCV(xgb7, param_grid7, scoring='accuracy', n_jobs=7, cv=3)\n",
    "grid7.fit(data, target)\n",
    "\n",
    "print('=====\\n'\n",
    "      'Best params {}\\n'\n",
    "      'Score {} ({})\\n'\n",
    "      '====='.format(\n",
    "          grid7.best_params_,\n",
    "          grid7.best_score_, grid7.best_score_ - baseline_score\n",
    "      ))"
   ]
  }
 ],
 "metadata": {
  "kernelspec": {
   "display_name": "Python 3",
   "language": "python",
   "name": "python3"
  },
  "language_info": {
   "codemirror_mode": {
    "name": "ipython",
    "version": 3
   },
   "file_extension": ".py",
   "mimetype": "text/x-python",
   "name": "python",
   "nbconvert_exporter": "python",
   "pygments_lexer": "ipython3",
   "version": "3.6.4"
  }
 },
 "nbformat": 4,
 "nbformat_minor": 2
}
