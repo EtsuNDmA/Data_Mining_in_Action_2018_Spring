{
 "cells": [
  {
   "cell_type": "code",
   "execution_count": 1,
   "metadata": {},
   "outputs": [
    {
     "name": "stderr",
     "output_type": "stream",
     "text": [
      "Downloading 20news dataset. This may take a few minutes.\n",
      "Downloading dataset from https://ndownloader.figshare.com/files/5975967 (14 MB)\n"
     ]
    },
    {
     "name": "stdout",
     "output_type": "stream",
     "text": [
      "0.8698143102815296\n"
     ]
    }
   ],
   "source": [
    "from sklearn.model_selection import cross_val_score, GridSearchCV\n",
    "from sklearn.datasets import fetch_20newsgroups\n",
    "from sklearn.feature_extraction.text import CountVectorizer\n",
    "from sklearn.feature_extraction.text import TfidfTransformer\n",
    "from sklearn.linear_model import LogisticRegression\n",
    "from sklearn.pipeline import make_pipeline\n",
    "import numpy as np\n",
    "import os\n",
    "import json\n",
    "import sys\n",
    "import traceback\n",
    "\n",
    "\n",
    "SCRIPT_DIR = os.path.dirname('./')\n",
    "\n",
    "class Checker(object):\n",
    "    def __init__(self):\n",
    "        self.data = fetch_20newsgroups(\n",
    "            subset='all', \n",
    "            categories=[\n",
    "                'rec.autos',\n",
    "                'rec.motorcycles',\n",
    "                'rec.sport.baseball',\n",
    "                'rec.sport.hockey'\n",
    "            ], \n",
    "            remove=('headers', 'footers', 'quotes')\n",
    "        )\n",
    "\n",
    "    def check(self, params_path):\n",
    "        try:\n",
    "            with open(params_path, 'r') as f:\n",
    "                params = json.load(f)\n",
    "\n",
    "            pipeline = make_pipeline(\n",
    "                CountVectorizer(**params['count_vectorizer_params']), \n",
    "                TfidfTransformer(**params['tfidf_transformer_params']), \n",
    "                LogisticRegression(**params['logistic_regression_params'])\n",
    "            )\n",
    "            score = np.mean(cross_val_score(\n",
    "                pipeline, \n",
    "                self.data.data, \n",
    "                self.data.target,\n",
    "                scoring='accuracy', \n",
    "                cv=3\n",
    "            ))\n",
    "        except:\n",
    "            traceback.print_exception(*sys.exc_info())\n",
    "            score = None\n",
    "        \n",
    "        return score\n",
    "\n",
    "\n",
    "print(Checker().check(SCRIPT_DIR + '/text_classification_params_nikolaev.json'))"
   ]
  },
  {
   "cell_type": "code",
   "execution_count": 2,
   "metadata": {},
   "outputs": [],
   "source": [
    "data = fetch_20newsgroups(\n",
    "    subset='all', \n",
    "    categories=[\n",
    "        'rec.autos',\n",
    "        'rec.motorcycles',\n",
    "        'rec.sport.baseball',\n",
    "        'rec.sport.hockey'\n",
    "    ], \n",
    "    remove=('headers', 'footers', 'quotes')\n",
    ")"
   ]
  },
  {
   "cell_type": "code",
   "execution_count": 12,
   "metadata": {},
   "outputs": [
    {
     "name": "stdout",
     "output_type": "stream",
     "text": [
      "Fitting 3 folds for each of 48 candidates, totalling 144 fits\n",
      "[CV] countvectorizer__min_df=1, countvectorizer__ngram_range=(1, 1), countvectorizer__stop_words=english, logisticregression__C=15, logisticregression__class_weight=None, logisticregression__penalty=l2, tfidftransformer__norm=l2, tfidftransformer__smooth_idf=0, tfidftransformer__sublinear_tf=True \n",
      "[CV] countvectorizer__min_df=1, countvectorizer__ngram_range=(1, 1), countvectorizer__stop_words=english, logisticregression__C=15, logisticregression__class_weight=None, logisticregression__penalty=l2, tfidftransformer__norm=l2, tfidftransformer__smooth_idf=0, tfidftransformer__sublinear_tf=True \n",
      "[CV] countvectorizer__min_df=1, countvectorizer__ngram_range=(1, 1), countvectorizer__stop_words=english, logisticregression__C=15, logisticregression__class_weight=None, logisticregression__penalty=l2, tfidftransformer__norm=l2, tfidftransformer__smooth_idf=0, tfidftransformer__sublinear_tf=True \n",
      "[CV] countvectorizer__min_df=1, countvectorizer__ngram_range=(1, 1), countvectorizer__stop_words=english, logisticregression__C=15, logisticregression__class_weight=None, logisticregression__penalty=l2, tfidftransformer__norm=l2, tfidftransformer__smooth_idf=1, tfidftransformer__sublinear_tf=True \n",
      "[CV] countvectorizer__min_df=1, countvectorizer__ngram_range=(1, 1), countvectorizer__stop_words=english, logisticregression__C=15, logisticregression__class_weight=None, logisticregression__penalty=l2, tfidftransformer__norm=l2, tfidftransformer__smooth_idf=1, tfidftransformer__sublinear_tf=True \n",
      "[CV] countvectorizer__min_df=1, countvectorizer__ngram_range=(1, 1), countvectorizer__stop_words=english, logisticregression__C=15, logisticregression__class_weight=None, logisticregression__penalty=l2, tfidftransformer__norm=l2, tfidftransformer__smooth_idf=1, tfidftransformer__sublinear_tf=True \n",
      "[CV] countvectorizer__min_df=1, countvectorizer__ngram_range=(1, 1), countvectorizer__stop_words=english, logisticregression__C=14, logisticregression__class_weight=None, logisticregression__penalty=l2, tfidftransformer__norm=l2, tfidftransformer__smooth_idf=0, tfidftransformer__sublinear_tf=True \n",
      "[CV] countvectorizer__min_df=1, countvectorizer__ngram_range=(1, 1), countvectorizer__stop_words=english, logisticregression__C=14, logisticregression__class_weight=None, logisticregression__penalty=l2, tfidftransformer__norm=l2, tfidftransformer__smooth_idf=0, tfidftransformer__sublinear_tf=True \n",
      "[CV]  countvectorizer__min_df=1, countvectorizer__ngram_range=(1, 1), countvectorizer__stop_words=english, logisticregression__C=14, logisticregression__class_weight=None, logisticregression__penalty=l2, tfidftransformer__norm=l2, tfidftransformer__smooth_idf=0, tfidftransformer__sublinear_tf=True, score=0.8786737000753579, total=   1.8s\n",
      "[CV]  countvectorizer__min_df=1, countvectorizer__ngram_range=(1, 1), countvectorizer__stop_words=english, logisticregression__C=15, logisticregression__class_weight=None, logisticregression__penalty=l2, tfidftransformer__norm=l2, tfidftransformer__smooth_idf=0, tfidftransformer__sublinear_tf=True, score=0.8657616892911011, total=   1.8s\n",
      "[CV]  countvectorizer__min_df=1, countvectorizer__ngram_range=(1, 1), countvectorizer__stop_words=english, logisticregression__C=15, logisticregression__class_weight=None, logisticregression__penalty=l2, tfidftransformer__norm=l2, tfidftransformer__smooth_idf=1, tfidftransformer__sublinear_tf=True, score=0.8740573152337858, total=   1.9s\n",
      "[CV] countvectorizer__min_df=1, countvectorizer__ngram_range=(1, 1), countvectorizer__stop_words=english, logisticregression__C=14, logisticregression__class_weight=None, logisticregression__penalty=l2, tfidftransformer__norm=l2, tfidftransformer__smooth_idf=0, tfidftransformer__sublinear_tf=True \n",
      "[CV] countvectorizer__min_df=1, countvectorizer__ngram_range=(1, 1), countvectorizer__stop_words=english, logisticregression__C=14, logisticregression__class_weight=None, logisticregression__penalty=l2, tfidftransformer__norm=l2, tfidftransformer__smooth_idf=1, tfidftransformer__sublinear_tf=True \n",
      "[CV] countvectorizer__min_df=1, countvectorizer__ngram_range=(1, 1), countvectorizer__stop_words=english, logisticregression__C=14, logisticregression__class_weight=None, logisticregression__penalty=l2, tfidftransformer__norm=l2, tfidftransformer__smooth_idf=1, tfidftransformer__sublinear_tf=True \n",
      "[CV]  countvectorizer__min_df=1, countvectorizer__ngram_range=(1, 1), countvectorizer__stop_words=english, logisticregression__C=15, logisticregression__class_weight=None, logisticregression__penalty=l2, tfidftransformer__norm=l2, tfidftransformer__smooth_idf=0, tfidftransformer__sublinear_tf=True, score=0.8786737000753579, total=   2.0s\n",
      "[CV] countvectorizer__min_df=1, countvectorizer__ngram_range=(1, 1), countvectorizer__stop_words=english, logisticregression__C=14, logisticregression__class_weight=None, logisticregression__penalty=l2, tfidftransformer__norm=l2, tfidftransformer__smooth_idf=1, tfidftransformer__sublinear_tf=True \n",
      "[CV]  countvectorizer__min_df=1, countvectorizer__ngram_range=(1, 1), countvectorizer__stop_words=english, logisticregression__C=15, logisticregression__class_weight=None, logisticregression__penalty=l2, tfidftransformer__norm=l2, tfidftransformer__smooth_idf=1, tfidftransformer__sublinear_tf=True, score=0.8642533936651584, total=   2.0s\n",
      "[CV] countvectorizer__min_df=1, countvectorizer__ngram_range=(1, 1), countvectorizer__stop_words=english, logisticregression__C=13, logisticregression__class_weight=None, logisticregression__penalty=l2, tfidftransformer__norm=l2, tfidftransformer__smooth_idf=0, tfidftransformer__sublinear_tf=True \n",
      "[CV]  countvectorizer__min_df=1, countvectorizer__ngram_range=(1, 1), countvectorizer__stop_words=english, logisticregression__C=14, logisticregression__class_weight=None, logisticregression__penalty=l2, tfidftransformer__norm=l2, tfidftransformer__smooth_idf=0, tfidftransformer__sublinear_tf=True, score=0.8657616892911011, total=   1.9s\n",
      "[CV]  countvectorizer__min_df=1, countvectorizer__ngram_range=(1, 1), countvectorizer__stop_words=english, logisticregression__C=15, logisticregression__class_weight=None, logisticregression__penalty=l2, tfidftransformer__norm=l2, tfidftransformer__smooth_idf=0, tfidftransformer__sublinear_tf=True, score=0.8763197586726998, total=   2.0s\n",
      "[CV] countvectorizer__min_df=1, countvectorizer__ngram_range=(1, 1), countvectorizer__stop_words=english, logisticregression__C=13, logisticregression__class_weight=None, logisticregression__penalty=l2, tfidftransformer__norm=l2, tfidftransformer__smooth_idf=0, tfidftransformer__sublinear_tf=True \n",
      "[CV] countvectorizer__min_df=1, countvectorizer__ngram_range=(1, 1), countvectorizer__stop_words=english, logisticregression__C=13, logisticregression__class_weight=None, logisticregression__penalty=l2, tfidftransformer__norm=l2, tfidftransformer__smooth_idf=0, tfidftransformer__sublinear_tf=True \n",
      "[CV]  countvectorizer__min_df=1, countvectorizer__ngram_range=(1, 1), countvectorizer__stop_words=english, logisticregression__C=15, logisticregression__class_weight=None, logisticregression__penalty=l2, tfidftransformer__norm=l2, tfidftransformer__smooth_idf=1, tfidftransformer__sublinear_tf=True, score=0.8779201205727204, total=   2.0s\n",
      "[CV] countvectorizer__min_df=1, countvectorizer__ngram_range=(1, 1), countvectorizer__stop_words=english, logisticregression__C=13, logisticregression__class_weight=None, logisticregression__penalty=l2, tfidftransformer__norm=l2, tfidftransformer__smooth_idf=1, tfidftransformer__sublinear_tf=True \n"
     ]
    },
    {
     "name": "stderr",
     "output_type": "stream",
     "text": [
      "[Parallel(n_jobs=-1)]: Done   2 tasks      | elapsed:    2.3s\n"
     ]
    },
    {
     "name": "stdout",
     "output_type": "stream",
     "text": [
      "[CV]  countvectorizer__min_df=1, countvectorizer__ngram_range=(1, 1), countvectorizer__stop_words=english, logisticregression__C=14, logisticregression__class_weight=None, logisticregression__penalty=l2, tfidftransformer__norm=l2, tfidftransformer__smooth_idf=1, tfidftransformer__sublinear_tf=True, score=0.8642533936651584, total=   1.7s\n",
      "[CV] countvectorizer__min_df=1, countvectorizer__ngram_range=(1, 1), countvectorizer__stop_words=english, logisticregression__C=13, logisticregression__class_weight=None, logisticregression__penalty=l2, tfidftransformer__norm=l2, tfidftransformer__smooth_idf=1, tfidftransformer__sublinear_tf=True \n",
      "[CV]  countvectorizer__min_df=1, countvectorizer__ngram_range=(1, 1), countvectorizer__stop_words=english, logisticregression__C=14, logisticregression__class_weight=None, logisticregression__penalty=l2, tfidftransformer__norm=l2, tfidftransformer__smooth_idf=0, tfidftransformer__sublinear_tf=True, score=0.8763197586726998, total=   1.8s\n",
      "[CV] countvectorizer__min_df=1, countvectorizer__ngram_range=(1, 1), countvectorizer__stop_words=english, logisticregression__C=13, logisticregression__class_weight=None, logisticregression__penalty=l2, tfidftransformer__norm=l2, tfidftransformer__smooth_idf=1, tfidftransformer__sublinear_tf=True \n"
     ]
    },
    {
     "name": "stderr",
     "output_type": "stream",
     "text": [
      "[Parallel(n_jobs=-1)]: Done   9 tasks      | elapsed:    4.4s\n"
     ]
    },
    {
     "name": "stdout",
     "output_type": "stream",
     "text": [
      "[CV]  countvectorizer__min_df=1, countvectorizer__ngram_range=(1, 1), countvectorizer__stop_words=english, logisticregression__C=14, logisticregression__class_weight=None, logisticregression__penalty=l2, tfidftransformer__norm=l2, tfidftransformer__smooth_idf=1, tfidftransformer__sublinear_tf=True, score=0.8740573152337858, total=   1.8s\n",
      "[CV]  countvectorizer__min_df=1, countvectorizer__ngram_range=(1, 1), countvectorizer__stop_words=english, logisticregression__C=13, logisticregression__class_weight=None, logisticregression__penalty=l2, tfidftransformer__norm=l2, tfidftransformer__smooth_idf=0, tfidftransformer__sublinear_tf=True, score=0.8657616892911011, total=   1.8s\n",
      "[CV] countvectorizer__min_df=1, countvectorizer__ngram_range=(1, 1), countvectorizer__stop_words=english, logisticregression__C=12, logisticregression__class_weight=None, logisticregression__penalty=l2, tfidftransformer__norm=l2, tfidftransformer__smooth_idf=0, tfidftransformer__sublinear_tf=True \n",
      "[CV] countvectorizer__min_df=1, countvectorizer__ngram_range=(1, 1), countvectorizer__stop_words=english, logisticregression__C=12, logisticregression__class_weight=None, logisticregression__penalty=l2, tfidftransformer__norm=l2, tfidftransformer__smooth_idf=0, tfidftransformer__sublinear_tf=True \n",
      "[CV]  countvectorizer__min_df=1, countvectorizer__ngram_range=(1, 1), countvectorizer__stop_words=english, logisticregression__C=14, logisticregression__class_weight=None, logisticregression__penalty=l2, tfidftransformer__norm=l2, tfidftransformer__smooth_idf=1, tfidftransformer__sublinear_tf=True, score=0.8779201205727204, total=   2.0s\n",
      "[CV] countvectorizer__min_df=1, countvectorizer__ngram_range=(1, 1), countvectorizer__stop_words=english, logisticregression__C=12, logisticregression__class_weight=None, logisticregression__penalty=l2, tfidftransformer__norm=l2, tfidftransformer__smooth_idf=0, tfidftransformer__sublinear_tf=True \n",
      "[CV]  countvectorizer__min_df=1, countvectorizer__ngram_range=(1, 1), countvectorizer__stop_words=english, logisticregression__C=13, logisticregression__class_weight=None, logisticregression__penalty=l2, tfidftransformer__norm=l2, tfidftransformer__smooth_idf=1, tfidftransformer__sublinear_tf=True, score=0.8779201205727204, total=   1.9s\n",
      "[CV] countvectorizer__min_df=1, countvectorizer__ngram_range=(1, 1), countvectorizer__stop_words=english, logisticregression__C=12, logisticregression__class_weight=None, logisticregression__penalty=l2, tfidftransformer__norm=l2, tfidftransformer__smooth_idf=1, tfidftransformer__sublinear_tf=True \n",
      "[CV]  countvectorizer__min_df=1, countvectorizer__ngram_range=(1, 1), countvectorizer__stop_words=english, logisticregression__C=13, logisticregression__class_weight=None, logisticregression__penalty=l2, tfidftransformer__norm=l2, tfidftransformer__smooth_idf=0, tfidftransformer__sublinear_tf=True, score=0.8763197586726998, total=   2.0s\n",
      "[CV] countvectorizer__min_df=1, countvectorizer__ngram_range=(1, 1), countvectorizer__stop_words=english, logisticregression__C=12, logisticregression__class_weight=None, logisticregression__penalty=l2, tfidftransformer__norm=l2, tfidftransformer__smooth_idf=1, tfidftransformer__sublinear_tf=True \n",
      "[CV]  countvectorizer__min_df=1, countvectorizer__ngram_range=(1, 1), countvectorizer__stop_words=english, logisticregression__C=13, logisticregression__class_weight=None, logisticregression__penalty=l2, tfidftransformer__norm=l2, tfidftransformer__smooth_idf=0, tfidftransformer__sublinear_tf=True, score=0.8628485305199699, total=   2.1s\n",
      "[CV] countvectorizer__min_df=1, countvectorizer__ngram_range=(1, 1), countvectorizer__stop_words=english, logisticregression__C=12, logisticregression__class_weight=None, logisticregression__penalty=l2, tfidftransformer__norm=l2, tfidftransformer__smooth_idf=1, tfidftransformer__sublinear_tf=True \n"
     ]
    },
    {
     "name": "stderr",
     "output_type": "stream",
     "text": [
      "[Parallel(n_jobs=-1)]: Done  16 tasks      | elapsed:    5.0s\n"
     ]
    },
    {
     "name": "stdout",
     "output_type": "stream",
     "text": [
      "[CV]  countvectorizer__min_df=1, countvectorizer__ngram_range=(1, 1), countvectorizer__stop_words=english, logisticregression__C=12, logisticregression__class_weight=None, logisticregression__penalty=l2, tfidftransformer__norm=l2, tfidftransformer__smooth_idf=0, tfidftransformer__sublinear_tf=True, score=0.8665158371040724, total=   1.3s\n",
      "[CV] countvectorizer__min_df=1, countvectorizer__ngram_range=(1, 2), countvectorizer__stop_words=english, logisticregression__C=15, logisticregression__class_weight=None, logisticregression__penalty=l2, tfidftransformer__norm=l2, tfidftransformer__smooth_idf=0, tfidftransformer__sublinear_tf=True \n",
      "[CV]  countvectorizer__min_df=1, countvectorizer__ngram_range=(1, 1), countvectorizer__stop_words=english, logisticregression__C=13, logisticregression__class_weight=None, logisticregression__penalty=l2, tfidftransformer__norm=l2, tfidftransformer__smooth_idf=1, tfidftransformer__sublinear_tf=True, score=0.8650075414781297, total=   1.2s\n",
      "[CV] countvectorizer__min_df=1, countvectorizer__ngram_range=(1, 2), countvectorizer__stop_words=english, logisticregression__C=15, logisticregression__class_weight=None, logisticregression__penalty=l2, tfidftransformer__norm=l2, tfidftransformer__smooth_idf=0, tfidftransformer__sublinear_tf=True \n",
      "[CV]  countvectorizer__min_df=1, countvectorizer__ngram_range=(1, 1), countvectorizer__stop_words=english, logisticregression__C=13, logisticregression__class_weight=None, logisticregression__penalty=l2, tfidftransformer__norm=l2, tfidftransformer__smooth_idf=1, tfidftransformer__sublinear_tf=True, score=0.8748114630467572, total=   1.7s\n",
      "[CV] countvectorizer__min_df=1, countvectorizer__ngram_range=(1, 2), countvectorizer__stop_words=english, logisticregression__C=15, logisticregression__class_weight=None, logisticregression__penalty=l2, tfidftransformer__norm=l2, tfidftransformer__smooth_idf=0, tfidftransformer__sublinear_tf=True \n",
      "[CV]  countvectorizer__min_df=1, countvectorizer__ngram_range=(1, 1), countvectorizer__stop_words=english, logisticregression__C=12, logisticregression__class_weight=None, logisticregression__penalty=l2, tfidftransformer__norm=l2, tfidftransformer__smooth_idf=0, tfidftransformer__sublinear_tf=True, score=0.8636021100226073, total=   1.7s\n",
      "[CV] countvectorizer__min_df=1, countvectorizer__ngram_range=(1, 2), countvectorizer__stop_words=english, logisticregression__C=15, logisticregression__class_weight=None, logisticregression__penalty=l2, tfidftransformer__norm=l2, tfidftransformer__smooth_idf=1, tfidftransformer__sublinear_tf=True \n",
      "[CV]  countvectorizer__min_df=1, countvectorizer__ngram_range=(1, 1), countvectorizer__stop_words=english, logisticregression__C=12, logisticregression__class_weight=None, logisticregression__penalty=l2, tfidftransformer__norm=l2, tfidftransformer__smooth_idf=0, tfidftransformer__sublinear_tf=True, score=0.8755656108597285, total=   1.8s\n",
      "[CV] countvectorizer__min_df=1, countvectorizer__ngram_range=(1, 2), countvectorizer__stop_words=english, logisticregression__C=15, logisticregression__class_weight=None, logisticregression__penalty=l2, tfidftransformer__norm=l2, tfidftransformer__smooth_idf=1, tfidftransformer__sublinear_tf=True \n",
      "[CV]  countvectorizer__min_df=1, countvectorizer__ngram_range=(1, 1), countvectorizer__stop_words=english, logisticregression__C=12, logisticregression__class_weight=None, logisticregression__penalty=l2, tfidftransformer__norm=l2, tfidftransformer__smooth_idf=1, tfidftransformer__sublinear_tf=True, score=0.8740573152337858, total=   1.8s\n",
      "[CV] countvectorizer__min_df=1, countvectorizer__ngram_range=(1, 2), countvectorizer__stop_words=english, logisticregression__C=15, logisticregression__class_weight=None, logisticregression__penalty=l2, tfidftransformer__norm=l2, tfidftransformer__smooth_idf=1, tfidftransformer__sublinear_tf=True \n",
      "[CV]  countvectorizer__min_df=1, countvectorizer__ngram_range=(1, 1), countvectorizer__stop_words=english, logisticregression__C=12, logisticregression__class_weight=None, logisticregression__penalty=l2, tfidftransformer__norm=l2, tfidftransformer__smooth_idf=1, tfidftransformer__sublinear_tf=True, score=0.8620949510173324, total=   2.0s\n",
      "[CV] countvectorizer__min_df=1, countvectorizer__ngram_range=(1, 2), countvectorizer__stop_words=english, logisticregression__C=14, logisticregression__class_weight=None, logisticregression__penalty=l2, tfidftransformer__norm=l2, tfidftransformer__smooth_idf=0, tfidftransformer__sublinear_tf=True \n",
      "[CV]  countvectorizer__min_df=1, countvectorizer__ngram_range=(1, 1), countvectorizer__stop_words=english, logisticregression__C=12, logisticregression__class_weight=None, logisticregression__penalty=l2, tfidftransformer__norm=l2, tfidftransformer__smooth_idf=1, tfidftransformer__sublinear_tf=True, score=0.8650075414781297, total=   2.0s\n",
      "[CV] countvectorizer__min_df=1, countvectorizer__ngram_range=(1, 2), countvectorizer__stop_words=english, logisticregression__C=14, logisticregression__class_weight=None, logisticregression__penalty=l2, tfidftransformer__norm=l2, tfidftransformer__smooth_idf=0, tfidftransformer__sublinear_tf=True \n",
      "[CV]  countvectorizer__min_df=1, countvectorizer__ngram_range=(1, 2), countvectorizer__stop_words=english, logisticregression__C=15, logisticregression__class_weight=None, logisticregression__penalty=l2, tfidftransformer__norm=l2, tfidftransformer__smooth_idf=0, tfidftransformer__sublinear_tf=True, score=0.8892238131122834, total=   5.1s\n",
      "[CV] countvectorizer__min_df=1, countvectorizer__ngram_range=(1, 2), countvectorizer__stop_words=english, logisticregression__C=14, logisticregression__class_weight=None, logisticregression__penalty=l2, tfidftransformer__norm=l2, tfidftransformer__smooth_idf=0, tfidftransformer__sublinear_tf=True \n",
      "[CV]  countvectorizer__min_df=1, countvectorizer__ngram_range=(1, 2), countvectorizer__stop_words=english, logisticregression__C=15, logisticregression__class_weight=None, logisticregression__penalty=l2, tfidftransformer__norm=l2, tfidftransformer__smooth_idf=0, tfidftransformer__sublinear_tf=True, score=0.8733031674208145, total=   5.2s\n",
      "[CV] countvectorizer__min_df=1, countvectorizer__ngram_range=(1, 2), countvectorizer__stop_words=english, logisticregression__C=14, logisticregression__class_weight=None, logisticregression__penalty=l2, tfidftransformer__norm=l2, tfidftransformer__smooth_idf=1, tfidftransformer__sublinear_tf=True \n"
     ]
    },
    {
     "name": "stderr",
     "output_type": "stream",
     "text": [
      "[Parallel(n_jobs=-1)]: Done  25 tasks      | elapsed:   12.8s\n"
     ]
    },
    {
     "name": "stdout",
     "output_type": "stream",
     "text": [
      "[CV]  countvectorizer__min_df=1, countvectorizer__ngram_range=(1, 2), countvectorizer__stop_words=english, logisticregression__C=15, logisticregression__class_weight=None, logisticregression__penalty=l2, tfidftransformer__norm=l2, tfidftransformer__smooth_idf=0, tfidftransformer__sublinear_tf=True, score=0.8672699849170438, total=   5.4s\n",
      "[CV]  countvectorizer__min_df=1, countvectorizer__ngram_range=(1, 2), countvectorizer__stop_words=english, logisticregression__C=15, logisticregression__class_weight=None, logisticregression__penalty=l2, tfidftransformer__norm=l2, tfidftransformer__smooth_idf=1, tfidftransformer__sublinear_tf=True, score=0.8665158371040724, total=   4.9s\n",
      "[CV] countvectorizer__min_df=1, countvectorizer__ngram_range=(1, 2), countvectorizer__stop_words=english, logisticregression__C=14, logisticregression__class_weight=None, logisticregression__penalty=l2, tfidftransformer__norm=l2, tfidftransformer__smooth_idf=1, tfidftransformer__sublinear_tf=True \n",
      "[CV] countvectorizer__min_df=1, countvectorizer__ngram_range=(1, 2), countvectorizer__stop_words=english, logisticregression__C=14, logisticregression__class_weight=None, logisticregression__penalty=l2, tfidftransformer__norm=l2, tfidftransformer__smooth_idf=1, tfidftransformer__sublinear_tf=True \n",
      "[CV]  countvectorizer__min_df=1, countvectorizer__ngram_range=(1, 2), countvectorizer__stop_words=english, logisticregression__C=15, logisticregression__class_weight=None, logisticregression__penalty=l2, tfidftransformer__norm=l2, tfidftransformer__smooth_idf=1, tfidftransformer__sublinear_tf=True, score=0.8914845516201959, total=   5.2s\n",
      "[CV] countvectorizer__min_df=1, countvectorizer__ngram_range=(1, 2), countvectorizer__stop_words=english, logisticregression__C=13, logisticregression__class_weight=None, logisticregression__penalty=l2, tfidftransformer__norm=l2, tfidftransformer__smooth_idf=0, tfidftransformer__sublinear_tf=True \n",
      "[CV]  countvectorizer__min_df=1, countvectorizer__ngram_range=(1, 2), countvectorizer__stop_words=english, logisticregression__C=14, logisticregression__class_weight=None, logisticregression__penalty=l2, tfidftransformer__norm=l2, tfidftransformer__smooth_idf=0, tfidftransformer__sublinear_tf=True, score=0.8687782805429864, total=   5.0s\n",
      "[CV] countvectorizer__min_df=1, countvectorizer__ngram_range=(1, 2), countvectorizer__stop_words=english, logisticregression__C=13, logisticregression__class_weight=None, logisticregression__penalty=l2, tfidftransformer__norm=l2, tfidftransformer__smooth_idf=0, tfidftransformer__sublinear_tf=True \n",
      "[CV]  countvectorizer__min_df=1, countvectorizer__ngram_range=(1, 2), countvectorizer__stop_words=english, logisticregression__C=15, logisticregression__class_weight=None, logisticregression__penalty=l2, tfidftransformer__norm=l2, tfidftransformer__smooth_idf=1, tfidftransformer__sublinear_tf=True, score=0.8687782805429864, total=   5.3s\n",
      "[CV] countvectorizer__min_df=1, countvectorizer__ngram_range=(1, 2), countvectorizer__stop_words=english, logisticregression__C=13, logisticregression__class_weight=None, logisticregression__penalty=l2, tfidftransformer__norm=l2, tfidftransformer__smooth_idf=0, tfidftransformer__sublinear_tf=True \n",
      "[CV]  countvectorizer__min_df=1, countvectorizer__ngram_range=(1, 2), countvectorizer__stop_words=english, logisticregression__C=14, logisticregression__class_weight=None, logisticregression__penalty=l2, tfidftransformer__norm=l2, tfidftransformer__smooth_idf=0, tfidftransformer__sublinear_tf=True, score=0.8892238131122834, total=   5.8s\n",
      "[CV] countvectorizer__min_df=1, countvectorizer__ngram_range=(1, 2), countvectorizer__stop_words=english, logisticregression__C=13, logisticregression__class_weight=None, logisticregression__penalty=l2, tfidftransformer__norm=l2, tfidftransformer__smooth_idf=1, tfidftransformer__sublinear_tf=True \n",
      "[CV]  countvectorizer__min_df=1, countvectorizer__ngram_range=(1, 2), countvectorizer__stop_words=english, logisticregression__C=14, logisticregression__class_weight=None, logisticregression__penalty=l2, tfidftransformer__norm=l2, tfidftransformer__smooth_idf=0, tfidftransformer__sublinear_tf=True, score=0.8725490196078431, total=   4.7s\n",
      "[CV]  countvectorizer__min_df=1, countvectorizer__ngram_range=(1, 2), countvectorizer__stop_words=english, logisticregression__C=13, logisticregression__class_weight=None, logisticregression__penalty=l2, tfidftransformer__norm=l2, tfidftransformer__smooth_idf=0, tfidftransformer__sublinear_tf=True, score=0.8687782805429864, total=   4.5s\n",
      "[CV] countvectorizer__min_df=1, countvectorizer__ngram_range=(1, 2), countvectorizer__stop_words=english, logisticregression__C=13, logisticregression__class_weight=None, logisticregression__penalty=l2, tfidftransformer__norm=l2, tfidftransformer__smooth_idf=1, tfidftransformer__sublinear_tf=True \n",
      "[CV] countvectorizer__min_df=1, countvectorizer__ngram_range=(1, 2), countvectorizer__stop_words=english, logisticregression__C=13, logisticregression__class_weight=None, logisticregression__penalty=l2, tfidftransformer__norm=l2, tfidftransformer__smooth_idf=1, tfidftransformer__sublinear_tf=True \n",
      "[CV]  countvectorizer__min_df=1, countvectorizer__ngram_range=(1, 2), countvectorizer__stop_words=english, logisticregression__C=14, logisticregression__class_weight=None, logisticregression__penalty=l2, tfidftransformer__norm=l2, tfidftransformer__smooth_idf=1, tfidftransformer__sublinear_tf=True, score=0.8695324283559578, total=   4.8s\n",
      "[CV] countvectorizer__min_df=1, countvectorizer__ngram_range=(1, 2), countvectorizer__stop_words=english, logisticregression__C=12, logisticregression__class_weight=None, logisticregression__penalty=l2, tfidftransformer__norm=l2, tfidftransformer__smooth_idf=0, tfidftransformer__sublinear_tf=True \n"
     ]
    },
    {
     "name": "stderr",
     "output_type": "stream",
     "text": [
      "[Parallel(n_jobs=-1)]: Done  34 tasks      | elapsed:   18.4s\n"
     ]
    },
    {
     "name": "stdout",
     "output_type": "stream",
     "text": [
      "[CV]  countvectorizer__min_df=1, countvectorizer__ngram_range=(1, 2), countvectorizer__stop_words=english, logisticregression__C=14, logisticregression__class_weight=None, logisticregression__penalty=l2, tfidftransformer__norm=l2, tfidftransformer__smooth_idf=1, tfidftransformer__sublinear_tf=True, score=0.8907309721175584, total=   5.1s\n",
      "[CV] countvectorizer__min_df=1, countvectorizer__ngram_range=(1, 2), countvectorizer__stop_words=english, logisticregression__C=12, logisticregression__class_weight=None, logisticregression__penalty=l2, tfidftransformer__norm=l2, tfidftransformer__smooth_idf=0, tfidftransformer__sublinear_tf=True \n",
      "[CV]  countvectorizer__min_df=1, countvectorizer__ngram_range=(1, 2), countvectorizer__stop_words=english, logisticregression__C=14, logisticregression__class_weight=None, logisticregression__penalty=l2, tfidftransformer__norm=l2, tfidftransformer__smooth_idf=1, tfidftransformer__sublinear_tf=True, score=0.8665158371040724, total=   5.1s\n",
      "[CV] countvectorizer__min_df=1, countvectorizer__ngram_range=(1, 2), countvectorizer__stop_words=english, logisticregression__C=12, logisticregression__class_weight=None, logisticregression__penalty=l2, tfidftransformer__norm=l2, tfidftransformer__smooth_idf=0, tfidftransformer__sublinear_tf=True \n",
      "[CV]  countvectorizer__min_df=1, countvectorizer__ngram_range=(1, 2), countvectorizer__stop_words=english, logisticregression__C=13, logisticregression__class_weight=None, logisticregression__penalty=l2, tfidftransformer__norm=l2, tfidftransformer__smooth_idf=0, tfidftransformer__sublinear_tf=True, score=0.8892238131122834, total=   5.2s\n",
      "[CV]  countvectorizer__min_df=1, countvectorizer__ngram_range=(1, 2), countvectorizer__stop_words=english, logisticregression__C=13, logisticregression__class_weight=None, logisticregression__penalty=l2, tfidftransformer__norm=l2, tfidftransformer__smooth_idf=0, tfidftransformer__sublinear_tf=True, score=0.8733031674208145, total=   5.3s\n",
      "[CV] countvectorizer__min_df=1, countvectorizer__ngram_range=(1, 2), countvectorizer__stop_words=english, logisticregression__C=12, logisticregression__class_weight=None, logisticregression__penalty=l2, tfidftransformer__norm=l2, tfidftransformer__smooth_idf=1, tfidftransformer__sublinear_tf=True \n",
      "[CV] countvectorizer__min_df=1, countvectorizer__ngram_range=(1, 2), countvectorizer__stop_words=english, logisticregression__C=12, logisticregression__class_weight=None, logisticregression__penalty=l2, tfidftransformer__norm=l2, tfidftransformer__smooth_idf=1, tfidftransformer__sublinear_tf=True \n",
      "[CV]  countvectorizer__min_df=1, countvectorizer__ngram_range=(1, 2), countvectorizer__stop_words=english, logisticregression__C=13, logisticregression__class_weight=None, logisticregression__penalty=l2, tfidftransformer__norm=l2, tfidftransformer__smooth_idf=1, tfidftransformer__sublinear_tf=True, score=0.8899773926149209, total=   5.3s\n",
      "[CV] countvectorizer__min_df=1, countvectorizer__ngram_range=(1, 2), countvectorizer__stop_words=english, logisticregression__C=12, logisticregression__class_weight=None, logisticregression__penalty=l2, tfidftransformer__norm=l2, tfidftransformer__smooth_idf=1, tfidftransformer__sublinear_tf=True \n",
      "[CV]  countvectorizer__min_df=1, countvectorizer__ngram_range=(1, 2), countvectorizer__stop_words=english, logisticregression__C=13, logisticregression__class_weight=None, logisticregression__penalty=l2, tfidftransformer__norm=l2, tfidftransformer__smooth_idf=1, tfidftransformer__sublinear_tf=True, score=0.8665158371040724, total=   4.6s\n",
      "[CV] countvectorizer__min_df=1, countvectorizer__ngram_range=(1, 3), countvectorizer__stop_words=english, logisticregression__C=15, logisticregression__class_weight=None, logisticregression__penalty=l2, tfidftransformer__norm=l2, tfidftransformer__smooth_idf=0, tfidftransformer__sublinear_tf=True \n",
      "[CV]  countvectorizer__min_df=1, countvectorizer__ngram_range=(1, 2), countvectorizer__stop_words=english, logisticregression__C=13, logisticregression__class_weight=None, logisticregression__penalty=l2, tfidftransformer__norm=l2, tfidftransformer__smooth_idf=1, tfidftransformer__sublinear_tf=True, score=0.8702865761689291, total=   5.2s\n",
      "[CV] countvectorizer__min_df=1, countvectorizer__ngram_range=(1, 3), countvectorizer__stop_words=english, logisticregression__C=15, logisticregression__class_weight=None, logisticregression__penalty=l2, tfidftransformer__norm=l2, tfidftransformer__smooth_idf=0, tfidftransformer__sublinear_tf=True \n",
      "[CV]  countvectorizer__min_df=1, countvectorizer__ngram_range=(1, 2), countvectorizer__stop_words=english, logisticregression__C=12, logisticregression__class_weight=None, logisticregression__penalty=l2, tfidftransformer__norm=l2, tfidftransformer__smooth_idf=0, tfidftransformer__sublinear_tf=True, score=0.8892238131122834, total=   5.3s\n",
      "[CV] countvectorizer__min_df=1, countvectorizer__ngram_range=(1, 3), countvectorizer__stop_words=english, logisticregression__C=15, logisticregression__class_weight=None, logisticregression__penalty=l2, tfidftransformer__norm=l2, tfidftransformer__smooth_idf=0, tfidftransformer__sublinear_tf=True \n",
      "[CV]  countvectorizer__min_df=1, countvectorizer__ngram_range=(1, 2), countvectorizer__stop_words=english, logisticregression__C=12, logisticregression__class_weight=None, logisticregression__penalty=l2, tfidftransformer__norm=l2, tfidftransformer__smooth_idf=0, tfidftransformer__sublinear_tf=True, score=0.8687782805429864, total=   5.0s\n",
      "[CV] countvectorizer__min_df=1, countvectorizer__ngram_range=(1, 3), countvectorizer__stop_words=english, logisticregression__C=15, logisticregression__class_weight=None, logisticregression__penalty=l2, tfidftransformer__norm=l2, tfidftransformer__smooth_idf=1, tfidftransformer__sublinear_tf=True \n",
      "[CV]  countvectorizer__min_df=1, countvectorizer__ngram_range=(1, 2), countvectorizer__stop_words=english, logisticregression__C=12, logisticregression__class_weight=None, logisticregression__penalty=l2, tfidftransformer__norm=l2, tfidftransformer__smooth_idf=1, tfidftransformer__sublinear_tf=True, score=0.8665158371040724, total=   5.2s\n",
      "[CV] countvectorizer__min_df=1, countvectorizer__ngram_range=(1, 3), countvectorizer__stop_words=english, logisticregression__C=15, logisticregression__class_weight=None, logisticregression__penalty=l2, tfidftransformer__norm=l2, tfidftransformer__smooth_idf=1, tfidftransformer__sublinear_tf=True \n",
      "[CV]  countvectorizer__min_df=1, countvectorizer__ngram_range=(1, 2), countvectorizer__stop_words=english, logisticregression__C=12, logisticregression__class_weight=None, logisticregression__penalty=l2, tfidftransformer__norm=l2, tfidftransformer__smooth_idf=1, tfidftransformer__sublinear_tf=True, score=0.8899773926149209, total=   5.1s\n",
      "[CV] countvectorizer__min_df=1, countvectorizer__ngram_range=(1, 3), countvectorizer__stop_words=english, logisticregression__C=15, logisticregression__class_weight=None, logisticregression__penalty=l2, tfidftransformer__norm=l2, tfidftransformer__smooth_idf=1, tfidftransformer__sublinear_tf=True \n"
     ]
    },
    {
     "name": "stderr",
     "output_type": "stream",
     "text": [
      "[Parallel(n_jobs=-1)]: Done  45 tasks      | elapsed:   25.4s\n"
     ]
    },
    {
     "name": "stdout",
     "output_type": "stream",
     "text": [
      "[CV]  countvectorizer__min_df=1, countvectorizer__ngram_range=(1, 2), countvectorizer__stop_words=english, logisticregression__C=12, logisticregression__class_weight=None, logisticregression__penalty=l2, tfidftransformer__norm=l2, tfidftransformer__smooth_idf=0, tfidftransformer__sublinear_tf=True, score=0.8733031674208145, total=   5.7s\n",
      "[CV] countvectorizer__min_df=1, countvectorizer__ngram_range=(1, 3), countvectorizer__stop_words=english, logisticregression__C=14, logisticregression__class_weight=None, logisticregression__penalty=l2, tfidftransformer__norm=l2, tfidftransformer__smooth_idf=0, tfidftransformer__sublinear_tf=True \n",
      "[CV]  countvectorizer__min_df=1, countvectorizer__ngram_range=(1, 2), countvectorizer__stop_words=english, logisticregression__C=12, logisticregression__class_weight=None, logisticregression__penalty=l2, tfidftransformer__norm=l2, tfidftransformer__smooth_idf=1, tfidftransformer__sublinear_tf=True, score=0.8702865761689291, total=   5.1s\n",
      "[CV] countvectorizer__min_df=1, countvectorizer__ngram_range=(1, 3), countvectorizer__stop_words=english, logisticregression__C=14, logisticregression__class_weight=None, logisticregression__penalty=l2, tfidftransformer__norm=l2, tfidftransformer__smooth_idf=0, tfidftransformer__sublinear_tf=True \n",
      "[CV]  countvectorizer__min_df=1, countvectorizer__ngram_range=(1, 3), countvectorizer__stop_words=english, logisticregression__C=15, logisticregression__class_weight=None, logisticregression__penalty=l2, tfidftransformer__norm=l2, tfidftransformer__smooth_idf=0, tfidftransformer__sublinear_tf=True, score=0.8862094951017332, total=   9.2s\n",
      "[CV] countvectorizer__min_df=1, countvectorizer__ngram_range=(1, 3), countvectorizer__stop_words=english, logisticregression__C=14, logisticregression__class_weight=None, logisticregression__penalty=l2, tfidftransformer__norm=l2, tfidftransformer__smooth_idf=0, tfidftransformer__sublinear_tf=True \n",
      "[CV]  countvectorizer__min_df=1, countvectorizer__ngram_range=(1, 3), countvectorizer__stop_words=english, logisticregression__C=15, logisticregression__class_weight=None, logisticregression__penalty=l2, tfidftransformer__norm=l2, tfidftransformer__smooth_idf=1, tfidftransformer__sublinear_tf=True, score=0.8869630746043707, total=   9.1s\n",
      "[CV] countvectorizer__min_df=1, countvectorizer__ngram_range=(1, 3), countvectorizer__stop_words=english, logisticregression__C=14, logisticregression__class_weight=None, logisticregression__penalty=l2, tfidftransformer__norm=l2, tfidftransformer__smooth_idf=1, tfidftransformer__sublinear_tf=True \n",
      "[CV]  countvectorizer__min_df=1, countvectorizer__ngram_range=(1, 3), countvectorizer__stop_words=english, logisticregression__C=15, logisticregression__class_weight=None, logisticregression__penalty=l2, tfidftransformer__norm=l2, tfidftransformer__smooth_idf=1, tfidftransformer__sublinear_tf=True, score=0.8672699849170438, total=   9.0s\n",
      "[CV] countvectorizer__min_df=1, countvectorizer__ngram_range=(1, 3), countvectorizer__stop_words=english, logisticregression__C=14, logisticregression__class_weight=None, logisticregression__penalty=l2, tfidftransformer__norm=l2, tfidftransformer__smooth_idf=1, tfidftransformer__sublinear_tf=True \n",
      "[CV]  countvectorizer__min_df=1, countvectorizer__ngram_range=(1, 3), countvectorizer__stop_words=english, logisticregression__C=15, logisticregression__class_weight=None, logisticregression__penalty=l2, tfidftransformer__norm=l2, tfidftransformer__smooth_idf=0, tfidftransformer__sublinear_tf=True, score=0.8687782805429864, total=   9.5s\n",
      "[CV] countvectorizer__min_df=1, countvectorizer__ngram_range=(1, 3), countvectorizer__stop_words=english, logisticregression__C=14, logisticregression__class_weight=None, logisticregression__penalty=l2, tfidftransformer__norm=l2, tfidftransformer__smooth_idf=1, tfidftransformer__sublinear_tf=True \n",
      "[CV]  countvectorizer__min_df=1, countvectorizer__ngram_range=(1, 3), countvectorizer__stop_words=english, logisticregression__C=15, logisticregression__class_weight=None, logisticregression__penalty=l2, tfidftransformer__norm=l2, tfidftransformer__smooth_idf=1, tfidftransformer__sublinear_tf=True, score=0.8702865761689291, total=   8.9s\n",
      "[CV]  countvectorizer__min_df=1, countvectorizer__ngram_range=(1, 3), countvectorizer__stop_words=english, logisticregression__C=15, logisticregression__class_weight=None, logisticregression__penalty=l2, tfidftransformer__norm=l2, tfidftransformer__smooth_idf=0, tfidftransformer__sublinear_tf=True, score=0.8710407239819005, total=   9.5s\n",
      "[CV] countvectorizer__min_df=1, countvectorizer__ngram_range=(1, 3), countvectorizer__stop_words=english, logisticregression__C=13, logisticregression__class_weight=None, logisticregression__penalty=l2, tfidftransformer__norm=l2, tfidftransformer__smooth_idf=0, tfidftransformer__sublinear_tf=True \n",
      "[CV] countvectorizer__min_df=1, countvectorizer__ngram_range=(1, 3), countvectorizer__stop_words=english, logisticregression__C=13, logisticregression__class_weight=None, logisticregression__penalty=l2, tfidftransformer__norm=l2, tfidftransformer__smooth_idf=0, tfidftransformer__sublinear_tf=True \n",
      "[CV]  countvectorizer__min_df=1, countvectorizer__ngram_range=(1, 3), countvectorizer__stop_words=english, logisticregression__C=14, logisticregression__class_weight=None, logisticregression__penalty=l2, tfidftransformer__norm=l2, tfidftransformer__smooth_idf=0, tfidftransformer__sublinear_tf=True, score=0.8687782805429864, total=   9.0s\n",
      "[CV] countvectorizer__min_df=1, countvectorizer__ngram_range=(1, 3), countvectorizer__stop_words=english, logisticregression__C=13, logisticregression__class_weight=None, logisticregression__penalty=l2, tfidftransformer__norm=l2, tfidftransformer__smooth_idf=0, tfidftransformer__sublinear_tf=True \n",
      "[CV]  countvectorizer__min_df=1, countvectorizer__ngram_range=(1, 3), countvectorizer__stop_words=english, logisticregression__C=14, logisticregression__class_weight=None, logisticregression__penalty=l2, tfidftransformer__norm=l2, tfidftransformer__smooth_idf=0, tfidftransformer__sublinear_tf=True, score=0.8869630746043707, total=   9.1s\n",
      "[CV] countvectorizer__min_df=1, countvectorizer__ngram_range=(1, 3), countvectorizer__stop_words=english, logisticregression__C=13, logisticregression__class_weight=None, logisticregression__penalty=l2, tfidftransformer__norm=l2, tfidftransformer__smooth_idf=1, tfidftransformer__sublinear_tf=True \n"
     ]
    },
    {
     "name": "stderr",
     "output_type": "stream",
     "text": [
      "[Parallel(n_jobs=-1)]: Done  56 tasks      | elapsed:   35.7s\n"
     ]
    },
    {
     "name": "stdout",
     "output_type": "stream",
     "text": [
      "[CV]  countvectorizer__min_df=1, countvectorizer__ngram_range=(1, 3), countvectorizer__stop_words=english, logisticregression__C=14, logisticregression__class_weight=None, logisticregression__penalty=l2, tfidftransformer__norm=l2, tfidftransformer__smooth_idf=0, tfidftransformer__sublinear_tf=True, score=0.8710407239819005, total=   8.5s\n",
      "[CV] countvectorizer__min_df=1, countvectorizer__ngram_range=(1, 3), countvectorizer__stop_words=english, logisticregression__C=13, logisticregression__class_weight=None, logisticregression__penalty=l2, tfidftransformer__norm=l2, tfidftransformer__smooth_idf=1, tfidftransformer__sublinear_tf=True \n",
      "[CV]  countvectorizer__min_df=1, countvectorizer__ngram_range=(1, 3), countvectorizer__stop_words=english, logisticregression__C=14, logisticregression__class_weight=None, logisticregression__penalty=l2, tfidftransformer__norm=l2, tfidftransformer__smooth_idf=1, tfidftransformer__sublinear_tf=True, score=0.8710407239819005, total=   8.5s\n",
      "[CV] countvectorizer__min_df=1, countvectorizer__ngram_range=(1, 3), countvectorizer__stop_words=english, logisticregression__C=13, logisticregression__class_weight=None, logisticregression__penalty=l2, tfidftransformer__norm=l2, tfidftransformer__smooth_idf=1, tfidftransformer__sublinear_tf=True \n",
      "[CV]  countvectorizer__min_df=1, countvectorizer__ngram_range=(1, 3), countvectorizer__stop_words=english, logisticregression__C=14, logisticregression__class_weight=None, logisticregression__penalty=l2, tfidftransformer__norm=l2, tfidftransformer__smooth_idf=1, tfidftransformer__sublinear_tf=True, score=0.8687782805429864, total=   8.9s\n",
      "[CV] countvectorizer__min_df=1, countvectorizer__ngram_range=(1, 3), countvectorizer__stop_words=english, logisticregression__C=12, logisticregression__class_weight=None, logisticregression__penalty=l2, tfidftransformer__norm=l2, tfidftransformer__smooth_idf=0, tfidftransformer__sublinear_tf=True \n",
      "[CV]  countvectorizer__min_df=1, countvectorizer__ngram_range=(1, 3), countvectorizer__stop_words=english, logisticregression__C=13, logisticregression__class_weight=None, logisticregression__penalty=l2, tfidftransformer__norm=l2, tfidftransformer__smooth_idf=0, tfidftransformer__sublinear_tf=True, score=0.8702865761689291, total=   9.1s\n",
      "[CV] countvectorizer__min_df=1, countvectorizer__ngram_range=(1, 3), countvectorizer__stop_words=english, logisticregression__C=12, logisticregression__class_weight=None, logisticregression__penalty=l2, tfidftransformer__norm=l2, tfidftransformer__smooth_idf=0, tfidftransformer__sublinear_tf=True \n",
      "[CV]  countvectorizer__min_df=1, countvectorizer__ngram_range=(1, 3), countvectorizer__stop_words=english, logisticregression__C=14, logisticregression__class_weight=None, logisticregression__penalty=l2, tfidftransformer__norm=l2, tfidftransformer__smooth_idf=1, tfidftransformer__sublinear_tf=True, score=0.8869630746043707, total=   9.4s\n",
      "[CV]  countvectorizer__min_df=1, countvectorizer__ngram_range=(1, 3), countvectorizer__stop_words=english, logisticregression__C=13, logisticregression__class_weight=None, logisticregression__penalty=l2, tfidftransformer__norm=l2, tfidftransformer__smooth_idf=0, tfidftransformer__sublinear_tf=True, score=0.8869630746043707, total=   9.3s\n",
      "[CV] countvectorizer__min_df=1, countvectorizer__ngram_range=(1, 3), countvectorizer__stop_words=english, logisticregression__C=12, logisticregression__class_weight=None, logisticregression__penalty=l2, tfidftransformer__norm=l2, tfidftransformer__smooth_idf=0, tfidftransformer__sublinear_tf=True \n",
      "[CV] countvectorizer__min_df=1, countvectorizer__ngram_range=(1, 3), countvectorizer__stop_words=english, logisticregression__C=12, logisticregression__class_weight=None, logisticregression__penalty=l2, tfidftransformer__norm=l2, tfidftransformer__smooth_idf=1, tfidftransformer__sublinear_tf=True \n",
      "[CV]  countvectorizer__min_df=1, countvectorizer__ngram_range=(1, 3), countvectorizer__stop_words=english, logisticregression__C=13, logisticregression__class_weight=None, logisticregression__penalty=l2, tfidftransformer__norm=l2, tfidftransformer__smooth_idf=0, tfidftransformer__sublinear_tf=True, score=0.8680241327300151, total=   9.3s\n",
      "[CV] countvectorizer__min_df=1, countvectorizer__ngram_range=(1, 3), countvectorizer__stop_words=english, logisticregression__C=12, logisticregression__class_weight=None, logisticregression__penalty=l2, tfidftransformer__norm=l2, tfidftransformer__smooth_idf=1, tfidftransformer__sublinear_tf=True \n",
      "[CV]  countvectorizer__min_df=1, countvectorizer__ngram_range=(1, 3), countvectorizer__stop_words=english, logisticregression__C=13, logisticregression__class_weight=None, logisticregression__penalty=l2, tfidftransformer__norm=l2, tfidftransformer__smooth_idf=1, tfidftransformer__sublinear_tf=True, score=0.8862094951017332, total=   9.1s\n",
      "[CV] countvectorizer__min_df=1, countvectorizer__ngram_range=(1, 3), countvectorizer__stop_words=english, logisticregression__C=12, logisticregression__class_weight=None, logisticregression__penalty=l2, tfidftransformer__norm=l2, tfidftransformer__smooth_idf=1, tfidftransformer__sublinear_tf=True \n",
      "[CV]  countvectorizer__min_df=1, countvectorizer__ngram_range=(1, 3), countvectorizer__stop_words=english, logisticregression__C=13, logisticregression__class_weight=None, logisticregression__penalty=l2, tfidftransformer__norm=l2, tfidftransformer__smooth_idf=1, tfidftransformer__sublinear_tf=True, score=0.8687782805429864, total=   8.1s\n",
      "[CV] countvectorizer__min_df=2, countvectorizer__ngram_range=(1, 1), countvectorizer__stop_words=english, logisticregression__C=15, logisticregression__class_weight=None, logisticregression__penalty=l2, tfidftransformer__norm=l2, tfidftransformer__smooth_idf=0, tfidftransformer__sublinear_tf=True \n",
      "[CV]  countvectorizer__min_df=1, countvectorizer__ngram_range=(1, 3), countvectorizer__stop_words=english, logisticregression__C=13, logisticregression__class_weight=None, logisticregression__penalty=l2, tfidftransformer__norm=l2, tfidftransformer__smooth_idf=1, tfidftransformer__sublinear_tf=True, score=0.8702865761689291, total=   9.2s\n",
      "[CV]  countvectorizer__min_df=1, countvectorizer__ngram_range=(1, 3), countvectorizer__stop_words=english, logisticregression__C=12, logisticregression__class_weight=None, logisticregression__penalty=l2, tfidftransformer__norm=l2, tfidftransformer__smooth_idf=0, tfidftransformer__sublinear_tf=True, score=0.8862094951017332, total=   9.1s\n",
      "[CV] countvectorizer__min_df=2, countvectorizer__ngram_range=(1, 1), countvectorizer__stop_words=english, logisticregression__C=15, logisticregression__class_weight=None, logisticregression__penalty=l2, tfidftransformer__norm=l2, tfidftransformer__smooth_idf=0, tfidftransformer__sublinear_tf=True \n",
      "[CV] countvectorizer__min_df=2, countvectorizer__ngram_range=(1, 1), countvectorizer__stop_words=english, logisticregression__C=15, logisticregression__class_weight=None, logisticregression__penalty=l2, tfidftransformer__norm=l2, tfidftransformer__smooth_idf=0, tfidftransformer__sublinear_tf=True \n",
      "[CV]  countvectorizer__min_df=1, countvectorizer__ngram_range=(1, 3), countvectorizer__stop_words=english, logisticregression__C=12, logisticregression__class_weight=None, logisticregression__penalty=l2, tfidftransformer__norm=l2, tfidftransformer__smooth_idf=0, tfidftransformer__sublinear_tf=True, score=0.8680241327300151, total=   8.8s\n",
      "[CV] countvectorizer__min_df=2, countvectorizer__ngram_range=(1, 1), countvectorizer__stop_words=english, logisticregression__C=15, logisticregression__class_weight=None, logisticregression__penalty=l2, tfidftransformer__norm=l2, tfidftransformer__smooth_idf=1, tfidftransformer__sublinear_tf=True \n",
      "[CV]  countvectorizer__min_df=1, countvectorizer__ngram_range=(1, 3), countvectorizer__stop_words=english, logisticregression__C=12, logisticregression__class_weight=None, logisticregression__penalty=l2, tfidftransformer__norm=l2, tfidftransformer__smooth_idf=0, tfidftransformer__sublinear_tf=True, score=0.8695324283559578, total=   9.0s\n",
      "[CV] countvectorizer__min_df=2, countvectorizer__ngram_range=(1, 1), countvectorizer__stop_words=english, logisticregression__C=15, logisticregression__class_weight=None, logisticregression__penalty=l2, tfidftransformer__norm=l2, tfidftransformer__smooth_idf=1, tfidftransformer__sublinear_tf=True \n"
     ]
    },
    {
     "name": "stdout",
     "output_type": "stream",
     "text": [
      "[CV]  countvectorizer__min_df=1, countvectorizer__ngram_range=(1, 3), countvectorizer__stop_words=english, logisticregression__C=12, logisticregression__class_weight=None, logisticregression__penalty=l2, tfidftransformer__norm=l2, tfidftransformer__smooth_idf=1, tfidftransformer__sublinear_tf=True, score=0.8862094951017332, total=   9.0s\n",
      "[CV] countvectorizer__min_df=2, countvectorizer__ngram_range=(1, 1), countvectorizer__stop_words=english, logisticregression__C=15, logisticregression__class_weight=None, logisticregression__penalty=l2, tfidftransformer__norm=l2, tfidftransformer__smooth_idf=1, tfidftransformer__sublinear_tf=True \n"
     ]
    },
    {
     "name": "stderr",
     "output_type": "stream",
     "text": [
      "[Parallel(n_jobs=-1)]: Done  69 tasks      | elapsed:   55.6s\n"
     ]
    },
    {
     "name": "stdout",
     "output_type": "stream",
     "text": [
      "[CV]  countvectorizer__min_df=1, countvectorizer__ngram_range=(1, 3), countvectorizer__stop_words=english, logisticregression__C=12, logisticregression__class_weight=None, logisticregression__penalty=l2, tfidftransformer__norm=l2, tfidftransformer__smooth_idf=1, tfidftransformer__sublinear_tf=True, score=0.8702865761689291, total=   8.9s\n",
      "[CV] countvectorizer__min_df=2, countvectorizer__ngram_range=(1, 1), countvectorizer__stop_words=english, logisticregression__C=14, logisticregression__class_weight=None, logisticregression__penalty=l2, tfidftransformer__norm=l2, tfidftransformer__smooth_idf=0, tfidftransformer__sublinear_tf=True \n",
      "[CV]  countvectorizer__min_df=1, countvectorizer__ngram_range=(1, 3), countvectorizer__stop_words=english, logisticregression__C=12, logisticregression__class_weight=None, logisticregression__penalty=l2, tfidftransformer__norm=l2, tfidftransformer__smooth_idf=1, tfidftransformer__sublinear_tf=True, score=0.8680241327300151, total=   9.1s\n",
      "[CV] countvectorizer__min_df=2, countvectorizer__ngram_range=(1, 1), countvectorizer__stop_words=english, logisticregression__C=14, logisticregression__class_weight=None, logisticregression__penalty=l2, tfidftransformer__norm=l2, tfidftransformer__smooth_idf=0, tfidftransformer__sublinear_tf=True \n",
      "[CV]  countvectorizer__min_df=2, countvectorizer__ngram_range=(1, 1), countvectorizer__stop_words=english, logisticregression__C=15, logisticregression__class_weight=None, logisticregression__penalty=l2, tfidftransformer__norm=l2, tfidftransformer__smooth_idf=0, tfidftransformer__sublinear_tf=True, score=0.8726450640542577, total=   1.2s\n",
      "[CV] countvectorizer__min_df=2, countvectorizer__ngram_range=(1, 1), countvectorizer__stop_words=english, logisticregression__C=14, logisticregression__class_weight=None, logisticregression__penalty=l2, tfidftransformer__norm=l2, tfidftransformer__smooth_idf=0, tfidftransformer__sublinear_tf=True \n",
      "[CV]  countvectorizer__min_df=2, countvectorizer__ngram_range=(1, 1), countvectorizer__stop_words=english, logisticregression__C=15, logisticregression__class_weight=None, logisticregression__penalty=l2, tfidftransformer__norm=l2, tfidftransformer__smooth_idf=0, tfidftransformer__sublinear_tf=True, score=0.8574660633484162, total=   2.0s\n",
      "[CV] countvectorizer__min_df=2, countvectorizer__ngram_range=(1, 1), countvectorizer__stop_words=english, logisticregression__C=14, logisticregression__class_weight=None, logisticregression__penalty=l2, tfidftransformer__norm=l2, tfidftransformer__smooth_idf=1, tfidftransformer__sublinear_tf=True \n",
      "[CV]  countvectorizer__min_df=2, countvectorizer__ngram_range=(1, 1), countvectorizer__stop_words=english, logisticregression__C=15, logisticregression__class_weight=None, logisticregression__penalty=l2, tfidftransformer__norm=l2, tfidftransformer__smooth_idf=1, tfidftransformer__sublinear_tf=True, score=0.8733031674208145, total=   1.8s\n",
      "[CV]  countvectorizer__min_df=2, countvectorizer__ngram_range=(1, 1), countvectorizer__stop_words=english, logisticregression__C=15, logisticregression__class_weight=None, logisticregression__penalty=l2, tfidftransformer__norm=l2, tfidftransformer__smooth_idf=0, tfidftransformer__sublinear_tf=True, score=0.8733031674208145, total=   1.9s\n",
      "[CV] countvectorizer__min_df=2, countvectorizer__ngram_range=(1, 1), countvectorizer__stop_words=english, logisticregression__C=14, logisticregression__class_weight=None, logisticregression__penalty=l2, tfidftransformer__norm=l2, tfidftransformer__smooth_idf=1, tfidftransformer__sublinear_tf=True \n",
      "[CV]  countvectorizer__min_df=2, countvectorizer__ngram_range=(1, 1), countvectorizer__stop_words=english, logisticregression__C=15, logisticregression__class_weight=None, logisticregression__penalty=l2, tfidftransformer__norm=l2, tfidftransformer__smooth_idf=1, tfidftransformer__sublinear_tf=True, score=0.8726450640542577, total=   1.8s\n",
      "[CV] countvectorizer__min_df=2, countvectorizer__ngram_range=(1, 1), countvectorizer__stop_words=english, logisticregression__C=14, logisticregression__class_weight=None, logisticregression__penalty=l2, tfidftransformer__norm=l2, tfidftransformer__smooth_idf=1, tfidftransformer__sublinear_tf=True \n",
      "[CV] countvectorizer__min_df=2, countvectorizer__ngram_range=(1, 1), countvectorizer__stop_words=english, logisticregression__C=13, logisticregression__class_weight=None, logisticregression__penalty=l2, tfidftransformer__norm=l2, tfidftransformer__smooth_idf=0, tfidftransformer__sublinear_tf=True \n",
      "[CV]  countvectorizer__min_df=2, countvectorizer__ngram_range=(1, 1), countvectorizer__stop_words=english, logisticregression__C=14, logisticregression__class_weight=None, logisticregression__penalty=l2, tfidftransformer__norm=l2, tfidftransformer__smooth_idf=0, tfidftransformer__sublinear_tf=True, score=0.8589743589743589, total=   1.5s\n",
      "[CV] countvectorizer__min_df=2, countvectorizer__ngram_range=(1, 1), countvectorizer__stop_words=english, logisticregression__C=13, logisticregression__class_weight=None, logisticregression__penalty=l2, tfidftransformer__norm=l2, tfidftransformer__smooth_idf=0, tfidftransformer__sublinear_tf=True \n",
      "[CV]  countvectorizer__min_df=2, countvectorizer__ngram_range=(1, 1), countvectorizer__stop_words=english, logisticregression__C=15, logisticregression__class_weight=None, logisticregression__penalty=l2, tfidftransformer__norm=l2, tfidftransformer__smooth_idf=1, tfidftransformer__sublinear_tf=True, score=0.8567119155354449, total=   1.9s\n",
      "[CV] countvectorizer__min_df=2, countvectorizer__ngram_range=(1, 1), countvectorizer__stop_words=english, logisticregression__C=13, logisticregression__class_weight=None, logisticregression__penalty=l2, tfidftransformer__norm=l2, tfidftransformer__smooth_idf=0, tfidftransformer__sublinear_tf=True \n",
      "[CV]  countvectorizer__min_df=2, countvectorizer__ngram_range=(1, 1), countvectorizer__stop_words=english, logisticregression__C=14, logisticregression__class_weight=None, logisticregression__penalty=l2, tfidftransformer__norm=l2, tfidftransformer__smooth_idf=0, tfidftransformer__sublinear_tf=True, score=0.8733986435568952, total=   2.0s\n",
      "[CV] countvectorizer__min_df=2, countvectorizer__ngram_range=(1, 1), countvectorizer__stop_words=english, logisticregression__C=13, logisticregression__class_weight=None, logisticregression__penalty=l2, tfidftransformer__norm=l2, tfidftransformer__smooth_idf=1, tfidftransformer__sublinear_tf=True \n",
      "[CV]  countvectorizer__min_df=2, countvectorizer__ngram_range=(1, 1), countvectorizer__stop_words=english, logisticregression__C=14, logisticregression__class_weight=None, logisticregression__penalty=l2, tfidftransformer__norm=l2, tfidftransformer__smooth_idf=0, tfidftransformer__sublinear_tf=True, score=0.8733031674208145, total=   2.0s\n",
      "[CV] countvectorizer__min_df=2, countvectorizer__ngram_range=(1, 1), countvectorizer__stop_words=english, logisticregression__C=13, logisticregression__class_weight=None, logisticregression__penalty=l2, tfidftransformer__norm=l2, tfidftransformer__smooth_idf=1, tfidftransformer__sublinear_tf=True \n",
      "[CV]  countvectorizer__min_df=2, countvectorizer__ngram_range=(1, 1), countvectorizer__stop_words=english, logisticregression__C=13, logisticregression__class_weight=None, logisticregression__penalty=l2, tfidftransformer__norm=l2, tfidftransformer__smooth_idf=0, tfidftransformer__sublinear_tf=True, score=0.8597285067873304, total=   1.6s\n",
      "[CV]  countvectorizer__min_df=2, countvectorizer__ngram_range=(1, 1), countvectorizer__stop_words=english, logisticregression__C=14, logisticregression__class_weight=None, logisticregression__penalty=l2, tfidftransformer__norm=l2, tfidftransformer__smooth_idf=1, tfidftransformer__sublinear_tf=True, score=0.8574660633484162, total=   1.7s\n",
      "[CV] countvectorizer__min_df=2, countvectorizer__ngram_range=(1, 1), countvectorizer__stop_words=english, logisticregression__C=13, logisticregression__class_weight=None, logisticregression__penalty=l2, tfidftransformer__norm=l2, tfidftransformer__smooth_idf=1, tfidftransformer__sublinear_tf=True \n",
      "[CV] countvectorizer__min_df=2, countvectorizer__ngram_range=(1, 1), countvectorizer__stop_words=english, logisticregression__C=12, logisticregression__class_weight=None, logisticregression__penalty=l2, tfidftransformer__norm=l2, tfidftransformer__smooth_idf=0, tfidftransformer__sublinear_tf=True \n"
     ]
    },
    {
     "name": "stdout",
     "output_type": "stream",
     "text": [
      "[CV]  countvectorizer__min_df=2, countvectorizer__ngram_range=(1, 1), countvectorizer__stop_words=english, logisticregression__C=14, logisticregression__class_weight=None, logisticregression__penalty=l2, tfidftransformer__norm=l2, tfidftransformer__smooth_idf=1, tfidftransformer__sublinear_tf=True, score=0.8733031674208145, total=   1.6s\n",
      "[CV] countvectorizer__min_df=2, countvectorizer__ngram_range=(1, 1), countvectorizer__stop_words=english, logisticregression__C=12, logisticregression__class_weight=None, logisticregression__penalty=l2, tfidftransformer__norm=l2, tfidftransformer__smooth_idf=0, tfidftransformer__sublinear_tf=True \n",
      "[CV]  countvectorizer__min_df=2, countvectorizer__ngram_range=(1, 1), countvectorizer__stop_words=english, logisticregression__C=13, logisticregression__class_weight=None, logisticregression__penalty=l2, tfidftransformer__norm=l2, tfidftransformer__smooth_idf=0, tfidftransformer__sublinear_tf=True, score=0.8733986435568952, total=   1.4s\n",
      "[CV] countvectorizer__min_df=2, countvectorizer__ngram_range=(1, 1), countvectorizer__stop_words=english, logisticregression__C=12, logisticregression__class_weight=None, logisticregression__penalty=l2, tfidftransformer__norm=l2, tfidftransformer__smooth_idf=0, tfidftransformer__sublinear_tf=True \n",
      "[CV]  countvectorizer__min_df=2, countvectorizer__ngram_range=(1, 1), countvectorizer__stop_words=english, logisticregression__C=14, logisticregression__class_weight=None, logisticregression__penalty=l2, tfidftransformer__norm=l2, tfidftransformer__smooth_idf=1, tfidftransformer__sublinear_tf=True, score=0.8726450640542577, total=   1.8s\n",
      "[CV] countvectorizer__min_df=2, countvectorizer__ngram_range=(1, 1), countvectorizer__stop_words=english, logisticregression__C=12, logisticregression__class_weight=None, logisticregression__penalty=l2, tfidftransformer__norm=l2, tfidftransformer__smooth_idf=1, tfidftransformer__sublinear_tf=True \n"
     ]
    },
    {
     "name": "stderr",
     "output_type": "stream",
     "text": [
      "[Parallel(n_jobs=-1)]: Done  82 tasks      | elapsed:  1.0min\n"
     ]
    },
    {
     "name": "stdout",
     "output_type": "stream",
     "text": [
      "[CV]  countvectorizer__min_df=2, countvectorizer__ngram_range=(1, 1), countvectorizer__stop_words=english, logisticregression__C=13, logisticregression__class_weight=None, logisticregression__penalty=l2, tfidftransformer__norm=l2, tfidftransformer__smooth_idf=0, tfidftransformer__sublinear_tf=True, score=0.8740573152337858, total=   1.8s\n",
      "[CV] countvectorizer__min_df=2, countvectorizer__ngram_range=(1, 1), countvectorizer__stop_words=english, logisticregression__C=12, logisticregression__class_weight=None, logisticregression__penalty=l2, tfidftransformer__norm=l2, tfidftransformer__smooth_idf=1, tfidftransformer__sublinear_tf=True \n",
      "[CV]  countvectorizer__min_df=2, countvectorizer__ngram_range=(1, 1), countvectorizer__stop_words=english, logisticregression__C=13, logisticregression__class_weight=None, logisticregression__penalty=l2, tfidftransformer__norm=l2, tfidftransformer__smooth_idf=1, tfidftransformer__sublinear_tf=True, score=0.8733986435568952, total=   1.6s\n",
      "[CV] countvectorizer__min_df=2, countvectorizer__ngram_range=(1, 1), countvectorizer__stop_words=english, logisticregression__C=12, logisticregression__class_weight=None, logisticregression__penalty=l2, tfidftransformer__norm=l2, tfidftransformer__smooth_idf=1, tfidftransformer__sublinear_tf=True \n",
      "[CV]  countvectorizer__min_df=2, countvectorizer__ngram_range=(1, 1), countvectorizer__stop_words=english, logisticregression__C=13, logisticregression__class_weight=None, logisticregression__penalty=l2, tfidftransformer__norm=l2, tfidftransformer__smooth_idf=1, tfidftransformer__sublinear_tf=True, score=0.8582202111613876, total=   1.2s\n",
      "[CV] countvectorizer__min_df=2, countvectorizer__ngram_range=(1, 2), countvectorizer__stop_words=english, logisticregression__C=15, logisticregression__class_weight=None, logisticregression__penalty=l2, tfidftransformer__norm=l2, tfidftransformer__smooth_idf=0, tfidftransformer__sublinear_tf=True \n",
      "[CV]  countvectorizer__min_df=2, countvectorizer__ngram_range=(1, 1), countvectorizer__stop_words=english, logisticregression__C=12, logisticregression__class_weight=None, logisticregression__penalty=l2, tfidftransformer__norm=l2, tfidftransformer__smooth_idf=0, tfidftransformer__sublinear_tf=True, score=0.8597285067873304, total=   1.0s\n",
      "[CV] countvectorizer__min_df=2, countvectorizer__ngram_range=(1, 2), countvectorizer__stop_words=english, logisticregression__C=15, logisticregression__class_weight=None, logisticregression__penalty=l2, tfidftransformer__norm=l2, tfidftransformer__smooth_idf=0, tfidftransformer__sublinear_tf=True \n",
      "[CV]  countvectorizer__min_df=2, countvectorizer__ngram_range=(1, 1), countvectorizer__stop_words=english, logisticregression__C=13, logisticregression__class_weight=None, logisticregression__penalty=l2, tfidftransformer__norm=l2, tfidftransformer__smooth_idf=1, tfidftransformer__sublinear_tf=True, score=0.8733031674208145, total=   1.4s\n",
      "[CV] countvectorizer__min_df=2, countvectorizer__ngram_range=(1, 2), countvectorizer__stop_words=english, logisticregression__C=15, logisticregression__class_weight=None, logisticregression__penalty=l2, tfidftransformer__norm=l2, tfidftransformer__smooth_idf=0, tfidftransformer__sublinear_tf=True \n",
      "[CV]  countvectorizer__min_df=2, countvectorizer__ngram_range=(1, 1), countvectorizer__stop_words=english, logisticregression__C=12, logisticregression__class_weight=None, logisticregression__penalty=l2, tfidftransformer__norm=l2, tfidftransformer__smooth_idf=0, tfidftransformer__sublinear_tf=True, score=0.8756593820648079, total=   1.8s\n",
      "[CV] countvectorizer__min_df=2, countvectorizer__ngram_range=(1, 2), countvectorizer__stop_words=english, logisticregression__C=15, logisticregression__class_weight=None, logisticregression__penalty=l2, tfidftransformer__norm=l2, tfidftransformer__smooth_idf=1, tfidftransformer__sublinear_tf=True \n",
      "[CV]  countvectorizer__min_df=2, countvectorizer__ngram_range=(1, 1), countvectorizer__stop_words=english, logisticregression__C=12, logisticregression__class_weight=None, logisticregression__penalty=l2, tfidftransformer__norm=l2, tfidftransformer__smooth_idf=1, tfidftransformer__sublinear_tf=True, score=0.8741522230595328, total=   1.7s\n",
      "[CV] countvectorizer__min_df=2, countvectorizer__ngram_range=(1, 2), countvectorizer__stop_words=english, logisticregression__C=15, logisticregression__class_weight=None, logisticregression__penalty=l2, tfidftransformer__norm=l2, tfidftransformer__smooth_idf=1, tfidftransformer__sublinear_tf=True \n",
      "[CV]  countvectorizer__min_df=2, countvectorizer__ngram_range=(1, 1), countvectorizer__stop_words=english, logisticregression__C=12, logisticregression__class_weight=None, logisticregression__penalty=l2, tfidftransformer__norm=l2, tfidftransformer__smooth_idf=0, tfidftransformer__sublinear_tf=True, score=0.8740573152337858, total=   1.9s\n",
      "[CV] countvectorizer__min_df=2, countvectorizer__ngram_range=(1, 2), countvectorizer__stop_words=english, logisticregression__C=15, logisticregression__class_weight=None, logisticregression__penalty=l2, tfidftransformer__norm=l2, tfidftransformer__smooth_idf=1, tfidftransformer__sublinear_tf=True \n",
      "[CV]  countvectorizer__min_df=2, countvectorizer__ngram_range=(1, 1), countvectorizer__stop_words=english, logisticregression__C=12, logisticregression__class_weight=None, logisticregression__penalty=l2, tfidftransformer__norm=l2, tfidftransformer__smooth_idf=1, tfidftransformer__sublinear_tf=True, score=0.8582202111613876, total=   1.9s\n",
      "[CV] countvectorizer__min_df=2, countvectorizer__ngram_range=(1, 2), countvectorizer__stop_words=english, logisticregression__C=14, logisticregression__class_weight=None, logisticregression__penalty=l2, tfidftransformer__norm=l2, tfidftransformer__smooth_idf=0, tfidftransformer__sublinear_tf=True \n",
      "[CV]  countvectorizer__min_df=2, countvectorizer__ngram_range=(1, 1), countvectorizer__stop_words=english, logisticregression__C=12, logisticregression__class_weight=None, logisticregression__penalty=l2, tfidftransformer__norm=l2, tfidftransformer__smooth_idf=1, tfidftransformer__sublinear_tf=True, score=0.8733031674208145, total=   2.0s\n",
      "[CV] countvectorizer__min_df=2, countvectorizer__ngram_range=(1, 2), countvectorizer__stop_words=english, logisticregression__C=14, logisticregression__class_weight=None, logisticregression__penalty=l2, tfidftransformer__norm=l2, tfidftransformer__smooth_idf=0, tfidftransformer__sublinear_tf=True \n",
      "[CV]  countvectorizer__min_df=2, countvectorizer__ngram_range=(1, 2), countvectorizer__stop_words=english, logisticregression__C=15, logisticregression__class_weight=None, logisticregression__penalty=l2, tfidftransformer__norm=l2, tfidftransformer__smooth_idf=0, tfidftransformer__sublinear_tf=True, score=0.8786737000753579, total=   2.6s\n",
      "[CV] countvectorizer__min_df=2, countvectorizer__ngram_range=(1, 2), countvectorizer__stop_words=english, logisticregression__C=14, logisticregression__class_weight=None, logisticregression__penalty=l2, tfidftransformer__norm=l2, tfidftransformer__smooth_idf=0, tfidftransformer__sublinear_tf=True \n",
      "[CV]  countvectorizer__min_df=2, countvectorizer__ngram_range=(1, 2), countvectorizer__stop_words=english, logisticregression__C=15, logisticregression__class_weight=None, logisticregression__penalty=l2, tfidftransformer__norm=l2, tfidftransformer__smooth_idf=0, tfidftransformer__sublinear_tf=True, score=0.8642533936651584, total=   2.2s\n",
      "[CV] countvectorizer__min_df=2, countvectorizer__ngram_range=(1, 2), countvectorizer__stop_words=english, logisticregression__C=14, logisticregression__class_weight=None, logisticregression__penalty=l2, tfidftransformer__norm=l2, tfidftransformer__smooth_idf=1, tfidftransformer__sublinear_tf=True \n"
     ]
    },
    {
     "name": "stderr",
     "output_type": "stream",
     "text": [
      "[Parallel(n_jobs=-1)]: Done  97 tasks      | elapsed:  1.1min\n"
     ]
    },
    {
     "name": "stdout",
     "output_type": "stream",
     "text": [
      "[CV]  countvectorizer__min_df=2, countvectorizer__ngram_range=(1, 2), countvectorizer__stop_words=english, logisticregression__C=15, logisticregression__class_weight=None, logisticregression__penalty=l2, tfidftransformer__norm=l2, tfidftransformer__smooth_idf=0, tfidftransformer__sublinear_tf=True, score=0.8717948717948718, total=   2.6s\n",
      "[CV] countvectorizer__min_df=2, countvectorizer__ngram_range=(1, 2), countvectorizer__stop_words=english, logisticregression__C=14, logisticregression__class_weight=None, logisticregression__penalty=l2, tfidftransformer__norm=l2, tfidftransformer__smooth_idf=1, tfidftransformer__sublinear_tf=True \n",
      "[CV]  countvectorizer__min_df=2, countvectorizer__ngram_range=(1, 2), countvectorizer__stop_words=english, logisticregression__C=15, logisticregression__class_weight=None, logisticregression__penalty=l2, tfidftransformer__norm=l2, tfidftransformer__smooth_idf=1, tfidftransformer__sublinear_tf=True, score=0.8634992458521871, total=   3.2s\n",
      "[CV]  countvectorizer__min_df=2, countvectorizer__ngram_range=(1, 2), countvectorizer__stop_words=english, logisticregression__C=15, logisticregression__class_weight=None, logisticregression__penalty=l2, tfidftransformer__norm=l2, tfidftransformer__smooth_idf=1, tfidftransformer__sublinear_tf=True, score=0.8779201205727204, total=   2.9s\n",
      "[CV] countvectorizer__min_df=2, countvectorizer__ngram_range=(1, 2), countvectorizer__stop_words=english, logisticregression__C=14, logisticregression__class_weight=None, logisticregression__penalty=l2, tfidftransformer__norm=l2, tfidftransformer__smooth_idf=1, tfidftransformer__sublinear_tf=True \n",
      "[CV] countvectorizer__min_df=2, countvectorizer__ngram_range=(1, 2), countvectorizer__stop_words=english, logisticregression__C=13, logisticregression__class_weight=None, logisticregression__penalty=l2, tfidftransformer__norm=l2, tfidftransformer__smooth_idf=0, tfidftransformer__sublinear_tf=True \n",
      "[CV]  countvectorizer__min_df=2, countvectorizer__ngram_range=(1, 2), countvectorizer__stop_words=english, logisticregression__C=14, logisticregression__class_weight=None, logisticregression__penalty=l2, tfidftransformer__norm=l2, tfidftransformer__smooth_idf=0, tfidftransformer__sublinear_tf=True, score=0.8786737000753579, total=   3.2s\n",
      "[CV] countvectorizer__min_df=2, countvectorizer__ngram_range=(1, 2), countvectorizer__stop_words=english, logisticregression__C=13, logisticregression__class_weight=None, logisticregression__penalty=l2, tfidftransformer__norm=l2, tfidftransformer__smooth_idf=0, tfidftransformer__sublinear_tf=True \n",
      "[CV]  countvectorizer__min_df=2, countvectorizer__ngram_range=(1, 2), countvectorizer__stop_words=english, logisticregression__C=15, logisticregression__class_weight=None, logisticregression__penalty=l2, tfidftransformer__norm=l2, tfidftransformer__smooth_idf=1, tfidftransformer__sublinear_tf=True, score=0.8725490196078431, total=   3.6s\n",
      "[CV]  countvectorizer__min_df=2, countvectorizer__ngram_range=(1, 2), countvectorizer__stop_words=english, logisticregression__C=14, logisticregression__class_weight=None, logisticregression__penalty=l2, tfidftransformer__norm=l2, tfidftransformer__smooth_idf=0, tfidftransformer__sublinear_tf=True, score=0.8650075414781297, total=   3.3s\n",
      "[CV] countvectorizer__min_df=2, countvectorizer__ngram_range=(1, 2), countvectorizer__stop_words=english, logisticregression__C=13, logisticregression__class_weight=None, logisticregression__penalty=l2, tfidftransformer__norm=l2, tfidftransformer__smooth_idf=0, tfidftransformer__sublinear_tf=True \n",
      "[CV] countvectorizer__min_df=2, countvectorizer__ngram_range=(1, 2), countvectorizer__stop_words=english, logisticregression__C=13, logisticregression__class_weight=None, logisticregression__penalty=l2, tfidftransformer__norm=l2, tfidftransformer__smooth_idf=1, tfidftransformer__sublinear_tf=True \n",
      "[CV]  countvectorizer__min_df=2, countvectorizer__ngram_range=(1, 2), countvectorizer__stop_words=english, logisticregression__C=14, logisticregression__class_weight=None, logisticregression__penalty=l2, tfidftransformer__norm=l2, tfidftransformer__smooth_idf=0, tfidftransformer__sublinear_tf=True, score=0.8733031674208145, total=   3.3s\n",
      "[CV] countvectorizer__min_df=2, countvectorizer__ngram_range=(1, 2), countvectorizer__stop_words=english, logisticregression__C=13, logisticregression__class_weight=None, logisticregression__penalty=l2, tfidftransformer__norm=l2, tfidftransformer__smooth_idf=1, tfidftransformer__sublinear_tf=True \n",
      "[CV]  countvectorizer__min_df=2, countvectorizer__ngram_range=(1, 2), countvectorizer__stop_words=english, logisticregression__C=14, logisticregression__class_weight=None, logisticregression__penalty=l2, tfidftransformer__norm=l2, tfidftransformer__smooth_idf=1, tfidftransformer__sublinear_tf=True, score=0.8634992458521871, total=   2.9s\n",
      "[CV] countvectorizer__min_df=2, countvectorizer__ngram_range=(1, 2), countvectorizer__stop_words=english, logisticregression__C=13, logisticregression__class_weight=None, logisticregression__penalty=l2, tfidftransformer__norm=l2, tfidftransformer__smooth_idf=1, tfidftransformer__sublinear_tf=True \n",
      "[CV]  countvectorizer__min_df=2, countvectorizer__ngram_range=(1, 2), countvectorizer__stop_words=english, logisticregression__C=14, logisticregression__class_weight=None, logisticregression__penalty=l2, tfidftransformer__norm=l2, tfidftransformer__smooth_idf=1, tfidftransformer__sublinear_tf=True, score=0.8779201205727204, total=   3.7s\n",
      "[CV] countvectorizer__min_df=2, countvectorizer__ngram_range=(1, 2), countvectorizer__stop_words=english, logisticregression__C=12, logisticregression__class_weight=None, logisticregression__penalty=l2, tfidftransformer__norm=l2, tfidftransformer__smooth_idf=0, tfidftransformer__sublinear_tf=True \n",
      "[CV]  countvectorizer__min_df=2, countvectorizer__ngram_range=(1, 2), countvectorizer__stop_words=english, logisticregression__C=14, logisticregression__class_weight=None, logisticregression__penalty=l2, tfidftransformer__norm=l2, tfidftransformer__smooth_idf=1, tfidftransformer__sublinear_tf=True, score=0.8733031674208145, total=   2.6s\n",
      "[CV] countvectorizer__min_df=2, countvectorizer__ngram_range=(1, 2), countvectorizer__stop_words=english, logisticregression__C=12, logisticregression__class_weight=None, logisticregression__penalty=l2, tfidftransformer__norm=l2, tfidftransformer__smooth_idf=0, tfidftransformer__sublinear_tf=True \n",
      "[CV]  countvectorizer__min_df=2, countvectorizer__ngram_range=(1, 2), countvectorizer__stop_words=english, logisticregression__C=13, logisticregression__class_weight=None, logisticregression__penalty=l2, tfidftransformer__norm=l2, tfidftransformer__smooth_idf=0, tfidftransformer__sublinear_tf=True, score=0.8786737000753579, total=   2.8s\n",
      "[CV] countvectorizer__min_df=2, countvectorizer__ngram_range=(1, 2), countvectorizer__stop_words=english, logisticregression__C=12, logisticregression__class_weight=None, logisticregression__penalty=l2, tfidftransformer__norm=l2, tfidftransformer__smooth_idf=0, tfidftransformer__sublinear_tf=True \n",
      "[CV]  countvectorizer__min_df=2, countvectorizer__ngram_range=(1, 2), countvectorizer__stop_words=english, logisticregression__C=13, logisticregression__class_weight=None, logisticregression__penalty=l2, tfidftransformer__norm=l2, tfidftransformer__smooth_idf=1, tfidftransformer__sublinear_tf=True, score=0.8786737000753579, total=   2.5s\n",
      "[CV] countvectorizer__min_df=2, countvectorizer__ngram_range=(1, 2), countvectorizer__stop_words=english, logisticregression__C=12, logisticregression__class_weight=None, logisticregression__penalty=l2, tfidftransformer__norm=l2, tfidftransformer__smooth_idf=1, tfidftransformer__sublinear_tf=True \n",
      "[CV]  countvectorizer__min_df=2, countvectorizer__ngram_range=(1, 2), countvectorizer__stop_words=english, logisticregression__C=13, logisticregression__class_weight=None, logisticregression__penalty=l2, tfidftransformer__norm=l2, tfidftransformer__smooth_idf=0, tfidftransformer__sublinear_tf=True, score=0.8733031674208145, total=   2.8s\n",
      "[CV] countvectorizer__min_df=2, countvectorizer__ngram_range=(1, 2), countvectorizer__stop_words=english, logisticregression__C=12, logisticregression__class_weight=None, logisticregression__penalty=l2, tfidftransformer__norm=l2, tfidftransformer__smooth_idf=1, tfidftransformer__sublinear_tf=True \n"
     ]
    },
    {
     "name": "stdout",
     "output_type": "stream",
     "text": [
      "[CV]  countvectorizer__min_df=2, countvectorizer__ngram_range=(1, 2), countvectorizer__stop_words=english, logisticregression__C=13, logisticregression__class_weight=None, logisticregression__penalty=l2, tfidftransformer__norm=l2, tfidftransformer__smooth_idf=0, tfidftransformer__sublinear_tf=True, score=0.8650075414781297, total=   3.2s\n",
      "[CV] countvectorizer__min_df=2, countvectorizer__ngram_range=(1, 2), countvectorizer__stop_words=english, logisticregression__C=12, logisticregression__class_weight=None, logisticregression__penalty=l2, tfidftransformer__norm=l2, tfidftransformer__smooth_idf=1, tfidftransformer__sublinear_tf=True \n"
     ]
    },
    {
     "name": "stderr",
     "output_type": "stream",
     "text": [
      "[Parallel(n_jobs=-1)]: Done 112 tasks      | elapsed:  1.2min\n"
     ]
    },
    {
     "name": "stdout",
     "output_type": "stream",
     "text": [
      "[CV]  countvectorizer__min_df=2, countvectorizer__ngram_range=(1, 2), countvectorizer__stop_words=english, logisticregression__C=13, logisticregression__class_weight=None, logisticregression__penalty=l2, tfidftransformer__norm=l2, tfidftransformer__smooth_idf=1, tfidftransformer__sublinear_tf=True, score=0.8634992458521871, total=   2.5s\n",
      "[CV] countvectorizer__min_df=2, countvectorizer__ngram_range=(1, 3), countvectorizer__stop_words=english, logisticregression__C=15, logisticregression__class_weight=None, logisticregression__penalty=l2, tfidftransformer__norm=l2, tfidftransformer__smooth_idf=0, tfidftransformer__sublinear_tf=True \n",
      "[CV]  countvectorizer__min_df=2, countvectorizer__ngram_range=(1, 2), countvectorizer__stop_words=english, logisticregression__C=12, logisticregression__class_weight=None, logisticregression__penalty=l2, tfidftransformer__norm=l2, tfidftransformer__smooth_idf=0, tfidftransformer__sublinear_tf=True, score=0.8786737000753579, total=   2.6s\n",
      "[CV] countvectorizer__min_df=2, countvectorizer__ngram_range=(1, 3), countvectorizer__stop_words=english, logisticregression__C=15, logisticregression__class_weight=None, logisticregression__penalty=l2, tfidftransformer__norm=l2, tfidftransformer__smooth_idf=0, tfidftransformer__sublinear_tf=True \n",
      "[CV]  countvectorizer__min_df=2, countvectorizer__ngram_range=(1, 2), countvectorizer__stop_words=english, logisticregression__C=13, logisticregression__class_weight=None, logisticregression__penalty=l2, tfidftransformer__norm=l2, tfidftransformer__smooth_idf=1, tfidftransformer__sublinear_tf=True, score=0.8725490196078431, total=   2.9s\n",
      "[CV] countvectorizer__min_df=2, countvectorizer__ngram_range=(1, 3), countvectorizer__stop_words=english, logisticregression__C=15, logisticregression__class_weight=None, logisticregression__penalty=l2, tfidftransformer__norm=l2, tfidftransformer__smooth_idf=0, tfidftransformer__sublinear_tf=True \n",
      "[CV]  countvectorizer__min_df=2, countvectorizer__ngram_range=(1, 2), countvectorizer__stop_words=english, logisticregression__C=12, logisticregression__class_weight=None, logisticregression__penalty=l2, tfidftransformer__norm=l2, tfidftransformer__smooth_idf=0, tfidftransformer__sublinear_tf=True, score=0.8642533936651584, total=   2.7s\n",
      "[CV] countvectorizer__min_df=2, countvectorizer__ngram_range=(1, 3), countvectorizer__stop_words=english, logisticregression__C=15, logisticregression__class_weight=None, logisticregression__penalty=l2, tfidftransformer__norm=l2, tfidftransformer__smooth_idf=1, tfidftransformer__sublinear_tf=True \n",
      "[CV]  countvectorizer__min_df=2, countvectorizer__ngram_range=(1, 2), countvectorizer__stop_words=english, logisticregression__C=12, logisticregression__class_weight=None, logisticregression__penalty=l2, tfidftransformer__norm=l2, tfidftransformer__smooth_idf=1, tfidftransformer__sublinear_tf=True, score=0.8725490196078431, total=   2.7s\n",
      "[CV] countvectorizer__min_df=2, countvectorizer__ngram_range=(1, 3), countvectorizer__stop_words=english, logisticregression__C=15, logisticregression__class_weight=None, logisticregression__penalty=l2, tfidftransformer__norm=l2, tfidftransformer__smooth_idf=1, tfidftransformer__sublinear_tf=True \n",
      "[CV]  countvectorizer__min_df=2, countvectorizer__ngram_range=(1, 2), countvectorizer__stop_words=english, logisticregression__C=12, logisticregression__class_weight=None, logisticregression__penalty=l2, tfidftransformer__norm=l2, tfidftransformer__smooth_idf=1, tfidftransformer__sublinear_tf=True, score=0.8786737000753579, total=   3.2s\n",
      "[CV] countvectorizer__min_df=2, countvectorizer__ngram_range=(1, 3), countvectorizer__stop_words=english, logisticregression__C=15, logisticregression__class_weight=None, logisticregression__penalty=l2, tfidftransformer__norm=l2, tfidftransformer__smooth_idf=1, tfidftransformer__sublinear_tf=True \n",
      "[CV]  countvectorizer__min_df=2, countvectorizer__ngram_range=(1, 2), countvectorizer__stop_words=english, logisticregression__C=12, logisticregression__class_weight=None, logisticregression__penalty=l2, tfidftransformer__norm=l2, tfidftransformer__smooth_idf=1, tfidftransformer__sublinear_tf=True, score=0.8642533936651584, total=   3.1s\n",
      "[CV] countvectorizer__min_df=2, countvectorizer__ngram_range=(1, 3), countvectorizer__stop_words=english, logisticregression__C=14, logisticregression__class_weight=None, logisticregression__penalty=l2, tfidftransformer__norm=l2, tfidftransformer__smooth_idf=0, tfidftransformer__sublinear_tf=True \n",
      "[CV]  countvectorizer__min_df=2, countvectorizer__ngram_range=(1, 2), countvectorizer__stop_words=english, logisticregression__C=12, logisticregression__class_weight=None, logisticregression__penalty=l2, tfidftransformer__norm=l2, tfidftransformer__smooth_idf=0, tfidftransformer__sublinear_tf=True, score=0.8740573152337858, total=   3.5s\n",
      "[CV] countvectorizer__min_df=2, countvectorizer__ngram_range=(1, 3), countvectorizer__stop_words=english, logisticregression__C=14, logisticregression__class_weight=None, logisticregression__penalty=l2, tfidftransformer__norm=l2, tfidftransformer__smooth_idf=0, tfidftransformer__sublinear_tf=True \n",
      "[CV]  countvectorizer__min_df=2, countvectorizer__ngram_range=(1, 3), countvectorizer__stop_words=english, logisticregression__C=15, logisticregression__class_weight=None, logisticregression__penalty=l2, tfidftransformer__norm=l2, tfidftransformer__smooth_idf=0, tfidftransformer__sublinear_tf=True, score=0.8786737000753579, total=   4.4s\n",
      "[CV] countvectorizer__min_df=2, countvectorizer__ngram_range=(1, 3), countvectorizer__stop_words=english, logisticregression__C=14, logisticregression__class_weight=None, logisticregression__penalty=l2, tfidftransformer__norm=l2, tfidftransformer__smooth_idf=0, tfidftransformer__sublinear_tf=True \n",
      "[CV]  countvectorizer__min_df=2, countvectorizer__ngram_range=(1, 3), countvectorizer__stop_words=english, logisticregression__C=15, logisticregression__class_weight=None, logisticregression__penalty=l2, tfidftransformer__norm=l2, tfidftransformer__smooth_idf=0, tfidftransformer__sublinear_tf=True, score=0.8725490196078431, total=   4.0s\n",
      "[CV]  countvectorizer__min_df=2, countvectorizer__ngram_range=(1, 3), countvectorizer__stop_words=english, logisticregression__C=15, logisticregression__class_weight=None, logisticregression__penalty=l2, tfidftransformer__norm=l2, tfidftransformer__smooth_idf=0, tfidftransformer__sublinear_tf=True, score=0.8634992458521871, total=   4.1s\n",
      "[CV] countvectorizer__min_df=2, countvectorizer__ngram_range=(1, 3), countvectorizer__stop_words=english, logisticregression__C=14, logisticregression__class_weight=None, logisticregression__penalty=l2, tfidftransformer__norm=l2, tfidftransformer__smooth_idf=1, tfidftransformer__sublinear_tf=True \n",
      "[CV] countvectorizer__min_df=2, countvectorizer__ngram_range=(1, 3), countvectorizer__stop_words=english, logisticregression__C=14, logisticregression__class_weight=None, logisticregression__penalty=l2, tfidftransformer__norm=l2, tfidftransformer__smooth_idf=1, tfidftransformer__sublinear_tf=True \n",
      "[CV]  countvectorizer__min_df=2, countvectorizer__ngram_range=(1, 3), countvectorizer__stop_words=english, logisticregression__C=15, logisticregression__class_weight=None, logisticregression__penalty=l2, tfidftransformer__norm=l2, tfidftransformer__smooth_idf=1, tfidftransformer__sublinear_tf=True, score=0.8794272795779955, total=   4.1s\n",
      "[CV] countvectorizer__min_df=2, countvectorizer__ngram_range=(1, 3), countvectorizer__stop_words=english, logisticregression__C=14, logisticregression__class_weight=None, logisticregression__penalty=l2, tfidftransformer__norm=l2, tfidftransformer__smooth_idf=1, tfidftransformer__sublinear_tf=True \n",
      "[CV]  countvectorizer__min_df=2, countvectorizer__ngram_range=(1, 3), countvectorizer__stop_words=english, logisticregression__C=15, logisticregression__class_weight=None, logisticregression__penalty=l2, tfidftransformer__norm=l2, tfidftransformer__smooth_idf=1, tfidftransformer__sublinear_tf=True, score=0.8634992458521871, total=   4.1s\n",
      "[CV] countvectorizer__min_df=2, countvectorizer__ngram_range=(1, 3), countvectorizer__stop_words=english, logisticregression__C=13, logisticregression__class_weight=None, logisticregression__penalty=l2, tfidftransformer__norm=l2, tfidftransformer__smooth_idf=0, tfidftransformer__sublinear_tf=True \n"
     ]
    },
    {
     "name": "stdout",
     "output_type": "stream",
     "text": [
      "[CV]  countvectorizer__min_df=2, countvectorizer__ngram_range=(1, 3), countvectorizer__stop_words=english, logisticregression__C=15, logisticregression__class_weight=None, logisticregression__penalty=l2, tfidftransformer__norm=l2, tfidftransformer__smooth_idf=1, tfidftransformer__sublinear_tf=True, score=0.8702865761689291, total=   4.1s\n",
      "[CV] countvectorizer__min_df=2, countvectorizer__ngram_range=(1, 3), countvectorizer__stop_words=english, logisticregression__C=13, logisticregression__class_weight=None, logisticregression__penalty=l2, tfidftransformer__norm=l2, tfidftransformer__smooth_idf=0, tfidftransformer__sublinear_tf=True \n",
      "[CV]  countvectorizer__min_df=2, countvectorizer__ngram_range=(1, 3), countvectorizer__stop_words=english, logisticregression__C=14, logisticregression__class_weight=None, logisticregression__penalty=l2, tfidftransformer__norm=l2, tfidftransformer__smooth_idf=0, tfidftransformer__sublinear_tf=True, score=0.8786737000753579, total=   4.8s\n",
      "[CV] countvectorizer__min_df=2, countvectorizer__ngram_range=(1, 3), countvectorizer__stop_words=english, logisticregression__C=13, logisticregression__class_weight=None, logisticregression__penalty=l2, tfidftransformer__norm=l2, tfidftransformer__smooth_idf=0, tfidftransformer__sublinear_tf=True \n",
      "[CV]  countvectorizer__min_df=2, countvectorizer__ngram_range=(1, 3), countvectorizer__stop_words=english, logisticregression__C=14, logisticregression__class_weight=None, logisticregression__penalty=l2, tfidftransformer__norm=l2, tfidftransformer__smooth_idf=0, tfidftransformer__sublinear_tf=True, score=0.8634992458521871, total=   5.0s\n",
      "[CV] countvectorizer__min_df=2, countvectorizer__ngram_range=(1, 3), countvectorizer__stop_words=english, logisticregression__C=13, logisticregression__class_weight=None, logisticregression__penalty=l2, tfidftransformer__norm=l2, tfidftransformer__smooth_idf=1, tfidftransformer__sublinear_tf=True \n",
      "[CV]  countvectorizer__min_df=2, countvectorizer__ngram_range=(1, 3), countvectorizer__stop_words=english, logisticregression__C=14, logisticregression__class_weight=None, logisticregression__penalty=l2, tfidftransformer__norm=l2, tfidftransformer__smooth_idf=0, tfidftransformer__sublinear_tf=True, score=0.8740573152337858, total=   3.4s\n",
      "[CV] countvectorizer__min_df=2, countvectorizer__ngram_range=(1, 3), countvectorizer__stop_words=english, logisticregression__C=13, logisticregression__class_weight=None, logisticregression__penalty=l2, tfidftransformer__norm=l2, tfidftransformer__smooth_idf=1, tfidftransformer__sublinear_tf=True \n"
     ]
    },
    {
     "name": "stderr",
     "output_type": "stream",
     "text": [
      "[Parallel(n_jobs=-1)]: Done 129 tasks      | elapsed:  1.4min\n"
     ]
    },
    {
     "name": "stdout",
     "output_type": "stream",
     "text": [
      "[CV]  countvectorizer__min_df=2, countvectorizer__ngram_range=(1, 3), countvectorizer__stop_words=english, logisticregression__C=13, logisticregression__class_weight=None, logisticregression__penalty=l2, tfidftransformer__norm=l2, tfidftransformer__smooth_idf=0, tfidftransformer__sublinear_tf=True, score=0.8786737000753579, total=   4.0s\n",
      "[CV]  countvectorizer__min_df=2, countvectorizer__ngram_range=(1, 3), countvectorizer__stop_words=english, logisticregression__C=14, logisticregression__class_weight=None, logisticregression__penalty=l2, tfidftransformer__norm=l2, tfidftransformer__smooth_idf=1, tfidftransformer__sublinear_tf=True, score=0.8642533936651584, total=   4.5s\n",
      "[CV] countvectorizer__min_df=2, countvectorizer__ngram_range=(1, 3), countvectorizer__stop_words=english, logisticregression__C=13, logisticregression__class_weight=None, logisticregression__penalty=l2, tfidftransformer__norm=l2, tfidftransformer__smooth_idf=1, tfidftransformer__sublinear_tf=True \n",
      "[CV] countvectorizer__min_df=2, countvectorizer__ngram_range=(1, 3), countvectorizer__stop_words=english, logisticregression__C=12, logisticregression__class_weight=None, logisticregression__penalty=l2, tfidftransformer__norm=l2, tfidftransformer__smooth_idf=0, tfidftransformer__sublinear_tf=True \n",
      "[CV]  countvectorizer__min_df=2, countvectorizer__ngram_range=(1, 3), countvectorizer__stop_words=english, logisticregression__C=14, logisticregression__class_weight=None, logisticregression__penalty=l2, tfidftransformer__norm=l2, tfidftransformer__smooth_idf=1, tfidftransformer__sublinear_tf=True, score=0.8710407239819005, total=   4.1s\n",
      "[CV]  countvectorizer__min_df=2, countvectorizer__ngram_range=(1, 3), countvectorizer__stop_words=english, logisticregression__C=13, logisticregression__class_weight=None, logisticregression__penalty=l2, tfidftransformer__norm=l2, tfidftransformer__smooth_idf=0, tfidftransformer__sublinear_tf=True, score=0.8642533936651584, total=   4.1s\n",
      "[CV] countvectorizer__min_df=2, countvectorizer__ngram_range=(1, 3), countvectorizer__stop_words=english, logisticregression__C=12, logisticregression__class_weight=None, logisticregression__penalty=l2, tfidftransformer__norm=l2, tfidftransformer__smooth_idf=0, tfidftransformer__sublinear_tf=True \n",
      "[CV] countvectorizer__min_df=2, countvectorizer__ngram_range=(1, 3), countvectorizer__stop_words=english, logisticregression__C=12, logisticregression__class_weight=None, logisticregression__penalty=l2, tfidftransformer__norm=l2, tfidftransformer__smooth_idf=0, tfidftransformer__sublinear_tf=True \n",
      "[CV]  countvectorizer__min_df=2, countvectorizer__ngram_range=(1, 3), countvectorizer__stop_words=english, logisticregression__C=14, logisticregression__class_weight=None, logisticregression__penalty=l2, tfidftransformer__norm=l2, tfidftransformer__smooth_idf=1, tfidftransformer__sublinear_tf=True, score=0.8794272795779955, total=   4.9s\n",
      "[CV] countvectorizer__min_df=2, countvectorizer__ngram_range=(1, 3), countvectorizer__stop_words=english, logisticregression__C=12, logisticregression__class_weight=None, logisticregression__penalty=l2, tfidftransformer__norm=l2, tfidftransformer__smooth_idf=1, tfidftransformer__sublinear_tf=True \n",
      "[CV]  countvectorizer__min_df=2, countvectorizer__ngram_range=(1, 3), countvectorizer__stop_words=english, logisticregression__C=13, logisticregression__class_weight=None, logisticregression__penalty=l2, tfidftransformer__norm=l2, tfidftransformer__smooth_idf=0, tfidftransformer__sublinear_tf=True, score=0.8740573152337858, total=   4.4s\n",
      "[CV] countvectorizer__min_df=2, countvectorizer__ngram_range=(1, 3), countvectorizer__stop_words=english, logisticregression__C=12, logisticregression__class_weight=None, logisticregression__penalty=l2, tfidftransformer__norm=l2, tfidftransformer__smooth_idf=1, tfidftransformer__sublinear_tf=True \n",
      "[CV]  countvectorizer__min_df=2, countvectorizer__ngram_range=(1, 3), countvectorizer__stop_words=english, logisticregression__C=13, logisticregression__class_weight=None, logisticregression__penalty=l2, tfidftransformer__norm=l2, tfidftransformer__smooth_idf=1, tfidftransformer__sublinear_tf=True, score=0.8786737000753579, total=   4.8s\n",
      "[CV] countvectorizer__min_df=2, countvectorizer__ngram_range=(1, 3), countvectorizer__stop_words=english, logisticregression__C=12, logisticregression__class_weight=None, logisticregression__penalty=l2, tfidftransformer__norm=l2, tfidftransformer__smooth_idf=1, tfidftransformer__sublinear_tf=True \n",
      "[CV]  countvectorizer__min_df=2, countvectorizer__ngram_range=(1, 3), countvectorizer__stop_words=english, logisticregression__C=13, logisticregression__class_weight=None, logisticregression__penalty=l2, tfidftransformer__norm=l2, tfidftransformer__smooth_idf=1, tfidftransformer__sublinear_tf=True, score=0.8642533936651584, total=   3.9s\n",
      "[CV]  countvectorizer__min_df=2, countvectorizer__ngram_range=(1, 3), countvectorizer__stop_words=english, logisticregression__C=13, logisticregression__class_weight=None, logisticregression__penalty=l2, tfidftransformer__norm=l2, tfidftransformer__smooth_idf=1, tfidftransformer__sublinear_tf=True, score=0.8710407239819005, total=   4.4s\n",
      "[CV]  countvectorizer__min_df=2, countvectorizer__ngram_range=(1, 3), countvectorizer__stop_words=english, logisticregression__C=12, logisticregression__class_weight=None, logisticregression__penalty=l2, tfidftransformer__norm=l2, tfidftransformer__smooth_idf=0, tfidftransformer__sublinear_tf=True, score=0.8642533936651584, total=   4.0s\n",
      "[CV]  countvectorizer__min_df=2, countvectorizer__ngram_range=(1, 3), countvectorizer__stop_words=english, logisticregression__C=12, logisticregression__class_weight=None, logisticregression__penalty=l2, tfidftransformer__norm=l2, tfidftransformer__smooth_idf=0, tfidftransformer__sublinear_tf=True, score=0.8786737000753579, total=   4.6s\n",
      "[CV]  countvectorizer__min_df=2, countvectorizer__ngram_range=(1, 3), countvectorizer__stop_words=english, logisticregression__C=12, logisticregression__class_weight=None, logisticregression__penalty=l2, tfidftransformer__norm=l2, tfidftransformer__smooth_idf=0, tfidftransformer__sublinear_tf=True, score=0.8748114630467572, total=   4.5s\n",
      "[CV]  countvectorizer__min_df=2, countvectorizer__ngram_range=(1, 3), countvectorizer__stop_words=english, logisticregression__C=12, logisticregression__class_weight=None, logisticregression__penalty=l2, tfidftransformer__norm=l2, tfidftransformer__smooth_idf=1, tfidftransformer__sublinear_tf=True, score=0.8786737000753579, total=   4.6s\n",
      "[CV]  countvectorizer__min_df=2, countvectorizer__ngram_range=(1, 3), countvectorizer__stop_words=english, logisticregression__C=12, logisticregression__class_weight=None, logisticregression__penalty=l2, tfidftransformer__norm=l2, tfidftransformer__smooth_idf=1, tfidftransformer__sublinear_tf=True, score=0.8642533936651584, total=   4.7s\n",
      "[CV]  countvectorizer__min_df=2, countvectorizer__ngram_range=(1, 3), countvectorizer__stop_words=english, logisticregression__C=12, logisticregression__class_weight=None, logisticregression__penalty=l2, tfidftransformer__norm=l2, tfidftransformer__smooth_idf=1, tfidftransformer__sublinear_tf=True, score=0.8717948717948718, total=   4.2s\n"
     ]
    },
    {
     "name": "stderr",
     "output_type": "stream",
     "text": [
      "[Parallel(n_jobs=-1)]: Done 144 out of 144 | elapsed:  1.5min remaining:    0.0s\n",
      "[Parallel(n_jobs=-1)]: Done 144 out of 144 | elapsed:  1.5min finished\n"
     ]
    },
    {
     "name": "stdout",
     "output_type": "stream",
     "text": [
      "CPU times: user 3.96 s, sys: 237 ms, total: 4.2 s\n",
      "Wall time: 1min 32s\n"
     ]
    }
   ],
   "source": [
    "%%time\n",
    "\n",
    "param_grid = {\n",
    "    'countvectorizer__ngram_range' : [(1, 1), (1, 2), (1, 3)],\n",
    "    'countvectorizer__min_df' : [1, 2],\n",
    "    'countvectorizer__stop_words': ['english'],\n",
    "    'tfidftransformer__norm' : ['l2'],\n",
    "    'tfidftransformer__sublinear_tf': [True],\n",
    "    'tfidftransformer__smooth_idf': [0,1],\n",
    "    'logisticregression__penalty': ['l2'],\n",
    "    'logisticregression__C' : [15,14,13,12],\n",
    "    'logisticregression__class_weight' : [None],\n",
    "}\n",
    "\n",
    "pipe = make_pipeline(CountVectorizer(),\n",
    "                     TfidfTransformer(),\n",
    "                     LogisticRegression())\n",
    "\n",
    "grid_pipe = GridSearchCV(pipe, param_grid, \n",
    "                         scoring='accuracy',\n",
    "                         n_jobs=-1, cv=3,\n",
    "                         verbose=10).fit(data.data, data.target)"
   ]
  },
  {
   "cell_type": "code",
   "execution_count": 13,
   "metadata": {},
   "outputs": [
    {
     "data": {
      "text/plain": [
       "(0.8771048002010555,\n",
       " {'countvectorizer__min_df': 1,\n",
       "  'countvectorizer__ngram_range': (1, 2),\n",
       "  'countvectorizer__stop_words': 'english',\n",
       "  'logisticregression__C': 13,\n",
       "  'logisticregression__class_weight': None,\n",
       "  'logisticregression__penalty': 'l2',\n",
       "  'tfidftransformer__norm': 'l2',\n",
       "  'tfidftransformer__smooth_idf': 0,\n",
       "  'tfidftransformer__sublinear_tf': True})"
      ]
     },
     "execution_count": 13,
     "metadata": {},
     "output_type": "execute_result"
    }
   ],
   "source": [
    "grid_pipe.best_score_, grid_pipe.best_params_"
   ]
  },
  {
   "cell_type": "code",
   "execution_count": null,
   "metadata": {
    "collapsed": true
   },
   "outputs": [],
   "source": []
  }
 ],
 "metadata": {
  "kernelspec": {
   "display_name": "Python 3",
   "language": "python",
   "name": "python3"
  },
  "language_info": {
   "codemirror_mode": {
    "name": "ipython",
    "version": 3
   },
   "file_extension": ".py",
   "mimetype": "text/x-python",
   "name": "python",
   "nbconvert_exporter": "python",
   "pygments_lexer": "ipython3",
   "version": "3.6.4"
  }
 },
 "nbformat": 4,
 "nbformat_minor": 2
}
