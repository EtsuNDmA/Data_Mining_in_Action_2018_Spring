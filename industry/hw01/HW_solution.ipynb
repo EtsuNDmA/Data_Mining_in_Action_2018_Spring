{
 "cells": [
  {
   "cell_type": "markdown",
   "metadata": {},
   "source": [
    "### Входные данные\n",
    "\n",
    "У вас имеется поток данных (генератор data_stream). Поля это случайные величины - так сделано для упрощения генерации данных. Есть три поля (названы по уровню сложности задания)\n",
    "\n",
    "### Задание\n",
    "##### Мотивация:\n",
    "У вас есть куча временных рядов, вы хотите научиться предсказывать следующее значение по 1000 предыдущим. 1000 признаков окна это слишком много, однако вы решили заменить их 5ю: средним, дисперсией, минимумом, медианой и максимумом. Однако, все эти признаки надо подсчитать, причём хочется уметь это делать быстро (в течение часа)\n",
    "##### Для каждого поля нужно сделать следующее:\n",
    "\n",
    "1. Пробежаться по данным окном размера 1000 (окно сдвигается на 1, то есть следующее окно пересекается с предыдущим по 999 элементам).\n",
    "\n",
    "2. Для каждого окна посчитайте среднее значение поля и его дисперсию. Делайте yield этих значений, получая генератор tuple. \n",
    "\n",
    "3. Для каждого окна найдине минимум, медиану и максимум в нём. Делайте yield этих значений, получая генератор tuple. \n",
    "\n",
    "Ответом, который нужно будет засабмитить в гугл форму, является среднее значение tuple по получившемуся потоку, округлённое до 2го знака.\n",
    "\n",
    "### Замечания\n",
    "\n",
    "1. Обратите внимания как генерируются поля. Постарайтесь понять особенность каждого поля и как это можно использовать. Желательно, чтобы для каждого поля у вас было своё решение, максимально эффективно использующее знание об этом поле.\n",
    "2. Полезные библиотеки: itertools, numpy, collections + всё что найдёте в интернете и можно поставить через pip install\n",
    "3. **Медианой отсортированного массива arr считайте значение arr[len(arr) // 2]**\n",
    "\n",
    "\n",
    "\n",
    "Если измерять время работы функций временем работы функции example, то примерное время работы такое:\n",
    "Одновременно среднее, дисперсия - 1.17\n",
    "Одновременно минимум, максимум и медиана:easy - 0.87\n",
    "medium - 2.11\n",
    "nightmare - 2.85\n"
   ]
  },
  {
   "cell_type": "markdown",
   "metadata": {},
   "source": [
    "#### Генерация данных"
   ]
  },
  {
   "cell_type": "code",
   "execution_count": 1,
   "metadata": {
    "collapsed": true
   },
   "outputs": [],
   "source": [
    "from collections import namedtuple\n",
    "import random\n",
    "\n",
    "Record = namedtuple('Record', 'easy medium nightmare')\n",
    "\n",
    "def data_stream():\n",
    "    random_generator = random.Random(42)\n",
    "    easy = 0\n",
    "    for _ in range(10000000):\n",
    "        easy += random_generator.randint(0, 2) \n",
    "        medium = random_generator.randint(0, 256 - 1)\n",
    "        nightmare = random_generator.randint(0, 1000000000 - 1)\n",
    "        \n",
    "        yield Record(\n",
    "            easy=easy,\n",
    "            medium=medium,\n",
    "            nightmare=nightmare\n",
    "        )\n",
    "        \n",
    "def easy_stream():\n",
    "    for record in data_stream():\n",
    "        yield record.easy\n",
    "        \n",
    "def medium_stream():\n",
    "    for record in data_stream():\n",
    "        yield record.medium\n",
    "        \n",
    "def nightmare_stream():\n",
    "    for record in data_stream():\n",
    "        yield record.nightmare"
   ]
  },
  {
   "cell_type": "markdown",
   "metadata": {},
   "source": [
    "#### Подсчёт среднего значения tuple по потоку"
   ]
  },
  {
   "cell_type": "code",
   "execution_count": 2,
   "metadata": {
    "collapsed": true
   },
   "outputs": [],
   "source": [
    "import numpy as np\n",
    "\n",
    "def get_tuple_stream_mean(stream, number_of_values):\n",
    "    result = np.zeros(number_of_values, dtype='object')\n",
    "    count = 0. \n",
    "    for streamed_tuple in stream:\n",
    "        result += streamed_tuple\n",
    "        count += 1\n",
    "    return ['{:0.2f}'.format(x) for x in result / count]"
   ]
  },
  {
   "cell_type": "code",
   "execution_count": 3,
   "metadata": {},
   "outputs": [
    {
     "name": "stdout",
     "output_type": "stream",
     "text": [
      "['127.48', '137.48']\n",
      "CPU times: user 3min 26s, sys: 212 ms, total: 3min 26s\n",
      "Wall time: 3min 27s\n"
     ]
    }
   ],
   "source": [
    "%%time\n",
    "def example(stream):\n",
    "    for value in stream:\n",
    "        yield (value, value + 10)\n",
    "print(get_tuple_stream_mean(example(medium_stream()), 2))"
   ]
  },
  {
   "cell_type": "markdown",
   "metadata": {},
   "source": [
    "# Решение"
   ]
  },
  {
   "cell_type": "code",
   "execution_count": 112,
   "metadata": {},
   "outputs": [],
   "source": [
    "from collections import deque\n",
    "from itertools import islice, tee\n",
    "def movmean(stream, N):\n",
    "    assert N == int(N) and N > 1, \"N must be an integer > 1\"\n",
    "    streams = tee(stream,2)\n",
    "    sum1 = 0\n",
    "    sum2 = 0\n",
    "    queue = deque(((sum1, sum2),))\n",
    "    for i, val in enumerate(stream):\n",
    "        sum1 += val\n",
    "        sum2 += val**2\n",
    "        queue.append((sum1, sum2))\n",
    "        if i < N-1:\n",
    "            continue\n",
    "        s1, s2 = queue.popleft()\n",
    "        mean = (sum1 - s1)/N\n",
    "        variance = (sum2 - s2)/N - mean**2  # смещенная оценка\n",
    "        yield mean, variance"
   ]
  },
  {
   "cell_type": "code",
   "execution_count": 113,
   "metadata": {},
   "outputs": [],
   "source": [
    "def easy_minmaxmed(stream, N):\n",
    "    \"\"\"Т.к. easystream упорядоченный, то не нужно сортировать массив\"\"\"\n",
    "    assert N == int(N) and N > 0, \"N must be an integer >0\"\n",
    "    half = N//2\n",
    "    queue=deque(islice(stream, N-1))\n",
    "    for val in stream:\n",
    "        queue.append(val)\n",
    "        max_ = val\n",
    "        med_ = queue[half]\n",
    "        min_ = queue.popleft()\n",
    "        yield min_, med_, max_"
   ]
  },
  {
   "cell_type": "code",
   "execution_count": 114,
   "metadata": {
    "collapsed": true
   },
   "outputs": [],
   "source": [
    "import bisect\n",
    "def medium_minmaxmed(stream, N):\n",
    "    assert N == int(N) and N > 0, \"N must be an integer >0\"\n",
    "    half = N//2\n",
    "    streams = tee(stream,2)\n",
    "    queue = deque(islice(streams[0], N-1))\n",
    "    sorted_list = sorted(list(islice(streams[1], N-1)))\n",
    "    for val in stream:\n",
    "        # Вставляем элемент в очередь и в отсортированный список\n",
    "        bisect.insort_right(sorted_list, val)\n",
    "        queue.append(val)\n",
    "        # Максимум в правом конце отсортированного списка\n",
    "        max_ = sorted_list[-1]\n",
    "        med_ = sorted_list[half]\n",
    "        # Минимум в левом конце\n",
    "        min_ = sorted_list[0]\n",
    "        sorted_list.remove(queue.popleft())\n",
    "        yield min_, med_, max_"
   ]
  },
  {
   "cell_type": "code",
   "execution_count": 116,
   "metadata": {},
   "outputs": [
    {
     "name": "stdout",
     "output_type": "stream",
     "text": [
      "Mean and variance for different streams\n",
      "\n",
      "Easy:  ['4999675.28', '83439.34']\n",
      "Medium:  ['127.48', '5455.17']\n",
      "Nightmare:  ['499880345.88', '83228908564027744.00']\n",
      "CPU times: user 12min 34s, sys: 2.29 s, total: 12min 37s\n",
      "Wall time: 12min 43s\n"
     ]
    }
   ],
   "source": [
    "%%time\n",
    "print(\"Mean and variance for different streams\\n\")\n",
    "easy_tuple = get_tuple_stream_mean(movmean(easy_stream(), 1000), 2)\n",
    "print(\"Easy: \", easy_tuple)\n",
    "medium_tuple = get_tuple_stream_mean(movmean(medium_stream(), 1000), 2)\n",
    "print(\"Medium: \", medium_tuple)\n",
    "nightmare_tuple = get_tuple_stream_mean(movmean(nightmare_stream(), 1000), 2)\n",
    "print(\"Nightmare: \", nightmare_tuple)"
   ]
  },
  {
   "cell_type": "code",
   "execution_count": 117,
   "metadata": {},
   "outputs": [
    {
     "name": "stdout",
     "output_type": "stream",
     "text": [
      "easy_stream min med max ['4999175.79', '4999675.78', '5000174.76']\n",
      "CPU times: user 3min 41s, sys: 664 ms, total: 3min 41s\n",
      "Wall time: 3min 43s\n"
     ]
    }
   ],
   "source": [
    "%%time\n",
    "easy_mmm = get_tuple_stream_mean(easy_minmaxmed(easy_stream(), 1000), 3)\n",
    "print(\"easy_stream min med max\", easy_mmm)"
   ]
  },
  {
   "cell_type": "code",
   "execution_count": 118,
   "metadata": {},
   "outputs": [
    {
     "name": "stdout",
     "output_type": "stream",
     "text": [
      "medium_stream min med max ['0.02', '127.60', '254.98']\n",
      "CPU times: user 5min 34s, sys: 372 ms, total: 5min 35s\n",
      "Wall time: 5min 35s\n"
     ]
    }
   ],
   "source": [
    "%%time\n",
    "medium_mmm = get_tuple_stream_mean(medium_minmaxmed(medium_stream(), 1000), 3)\n",
    "print(\"medium_stream min med max\", medium_mmm)"
   ]
  },
  {
   "cell_type": "code",
   "execution_count": 119,
   "metadata": {},
   "outputs": [
    {
     "name": "stdout",
     "output_type": "stream",
     "text": [
      "nightmare_stream min med max ['1017512.29', '500438415.64', '999017359.97']\n",
      "CPU times: user 5min 41s, sys: 364 ms, total: 5min 41s\n",
      "Wall time: 5min 42s\n"
     ]
    }
   ],
   "source": [
    "%%time\n",
    "nightmare_mmm = get_tuple_stream_mean(medium_minmaxmed(nightmare_stream(), 1000), 3)\n",
    "print(\"nightmare_stream min med max\", nightmare_mmm)"
   ]
  }
 ],
 "metadata": {
  "kernelspec": {
   "display_name": "Python 3",
   "language": "python",
   "name": "python3"
  },
  "language_info": {
   "codemirror_mode": {
    "name": "ipython",
    "version": 3
   },
   "file_extension": ".py",
   "mimetype": "text/x-python",
   "name": "python",
   "nbconvert_exporter": "python",
   "pygments_lexer": "ipython3",
   "version": "3.6.1"
  }
 },
 "nbformat": 4,
 "nbformat_minor": 1
}
